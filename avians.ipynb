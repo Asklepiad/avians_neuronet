{
 "cells": [
  {
   "cell_type": "markdown",
   "metadata": {
    "colab_type": "text",
    "id": "view-in-github"
   },
   "source": [
    "<a href=\"https://colab.research.google.com/github/Asklepiad/avians_neuronet/blob/main/avians.ipynb\" target=\"_parent\"><img src=\"https://colab.research.google.com/assets/colab-badge.svg\" alt=\"Open In Colab\"/></a>"
   ]
  },
  {
   "cell_type": "code",
   "execution_count": 1,
   "metadata": {
    "colab": {
     "base_uri": "https://localhost:8080/"
    },
    "id": "NhJ26OXjOWju",
    "outputId": "9df10642-9df3-49e7-a304-76edab043b80"
   },
   "outputs": [
    {
     "name": "stdout",
     "output_type": "stream",
     "text": [
      "Looking in indexes: https://pypi.org/simple, https://us-python.pkg.dev/colab-wheels/public/simple/\n",
      "Collecting loguru\n",
      "  Downloading loguru-0.7.0-py3-none-any.whl (59 kB)\n",
      "\u001b[2K     \u001b[90m━━━━━━━━━━━━━━━━━━━━━━━━━━━━━━━━━━━━━━━━\u001b[0m \u001b[32m60.0/60.0 kB\u001b[0m \u001b[31m1.4 MB/s\u001b[0m eta \u001b[36m0:00:00\u001b[0m\n",
      "\u001b[?25hInstalling collected packages: loguru\n",
      "Successfully installed loguru-0.7.0\n"
     ]
    }
   ],
   "source": [
    "!pip install loguru"
   ]
  },
  {
   "cell_type": "code",
   "execution_count": 1,
   "metadata": {
    "id": "OT7t0NtL20hN"
   },
   "outputs": [],
   "source": [
    "import pickle\n",
    "import torch\n",
    "import numpy as np\n",
    "import torchvision\n",
    "import matplotlib.pyplot as plt\n",
    "import os\n",
    "import seaborn as sns\n",
    "\n",
    "from os.path import join\n",
    "from loguru import logger\n",
    "from torch.utils.data import Dataset, DataLoader\n",
    "from pathlib import Path\n",
    "from sklearn.preprocessing import LabelEncoder\n",
    "from PIL import Image\n",
    "from torchvision import transforms\n",
    "from tqdm import tqdm\n",
    "from sklearn.model_selection import train_test_split\n",
    "from torch import nn\n",
    "from IPython.display import clear_output\n",
    "from sklearn.metrics import accuracy_score, f1_score\n",
    "\n",
    "from sklearn.metrics import classification_report\n",
    "import pandas as pd"
   ]
  },
  {
   "cell_type": "code",
   "execution_count": 2,
   "metadata": {
    "colab": {
     "base_uri": "https://localhost:8080/"
    },
    "id": "KZNhuEBsOAfD",
    "outputId": "53252771-de90-41ce-c92e-1738ddd02535"
   },
   "outputs": [
    {
     "ename": "ModuleNotFoundError",
     "evalue": "No module named 'google.colab'",
     "output_type": "error",
     "traceback": [
      "\u001b[0;31m---------------------------------------------------------------------------\u001b[0m",
      "\u001b[0;31mModuleNotFoundError\u001b[0m                       Traceback (most recent call last)",
      "Cell \u001b[0;32mIn [2], line 1\u001b[0m\n\u001b[0;32m----> 1\u001b[0m \u001b[38;5;28;01mfrom\u001b[39;00m \u001b[38;5;21;01mgoogle\u001b[39;00m\u001b[38;5;21;01m.\u001b[39;00m\u001b[38;5;21;01mcolab\u001b[39;00m \u001b[38;5;28;01mimport\u001b[39;00m files\n\u001b[1;32m      2\u001b[0m \u001b[38;5;28;01mfrom\u001b[39;00m \u001b[38;5;21;01mgoogle\u001b[39;00m\u001b[38;5;21;01m.\u001b[39;00m\u001b[38;5;21;01mcolab\u001b[39;00m \u001b[38;5;28;01mimport\u001b[39;00m drive\n\u001b[1;32m      3\u001b[0m drive\u001b[38;5;241m.\u001b[39mmount(\u001b[38;5;124m'\u001b[39m\u001b[38;5;124m/content/gdrive\u001b[39m\u001b[38;5;124m'\u001b[39m)\n",
      "\u001b[0;31mModuleNotFoundError\u001b[0m: No module named 'google.colab'"
     ]
    }
   ],
   "source": [
    "from google.colab import files\n",
    "from google.colab import drive\n",
    "drive.mount('/content/gdrive')"
   ]
  },
  {
   "cell_type": "code",
   "execution_count": 9,
   "metadata": {
    "colab": {
     "base_uri": "https://localhost:8080/"
    },
    "id": "XCZuMHUW2899",
    "outputId": "30dd44bc-4348-4184-a250-933162712f78"
   },
   "outputs": [
    {
     "name": "stdout",
     "output_type": "stream",
     "text": [
      "Using device: cpu\n"
     ]
    }
   ],
   "source": [
    "#DATA_PATH = \"/content/gdrive/MyDrive/avians/train\"\n",
    "DATA_PATH = \"/home/asklepiad/bioinf/ml/BI_ML_2023/avians/train/\"\n",
    "RESCALE_SIZE = 224, 224\n",
    "DEVICE = \"cuda\" if torch.cuda.is_available() else \"cpu\"\n",
    "BATCH_SIZE = 32\n",
    "\n",
    "print(f\"Using device: {DEVICE}\")"
   ]
  },
  {
   "cell_type": "markdown",
   "metadata": {
    "id": "uppmmOX4AmC4"
   },
   "source": [
    "## Напишем класс `NematodDataset`"
   ]
  },
  {
   "cell_type": "markdown",
   "metadata": {
    "id": "1dPixLnYAvva"
   },
   "source": [
    "Рассказывали ли про `pathlib`?"
   ]
  },
  {
   "cell_type": "code",
   "execution_count": 10,
   "metadata": {
    "id": "r4P63j-Z29A1"
   },
   "outputs": [],
   "source": [
    "class AviansDataset(Dataset):\n",
    "    def __init__(self, files, mode=\"train\") -> None:\n",
    "        super().__init__()\n",
    "\n",
    "        self.files = sorted(list(files))\n",
    "        self.len_ = len(self.files)\n",
    "        self.label_encoder = LabelEncoder()\n",
    "        self.mode = mode\n",
    "\n",
    "        self.labels = [path.parent.name for path in self.files]\n",
    "        self.label_encoder.fit(self.labels)\n",
    "\n",
    "        if self.mode == \"train\":\n",
    "            with open(\"label_encoder.pkl\", \"wb\") as le_dump_file:\n",
    "                    pickle.dump(self.label_encoder, le_dump_file)\n",
    "\n",
    "    def __len__(self):\n",
    "        return self.len_\n",
    "\n",
    "    def load_sample(self, file):\n",
    "        image = Image.open(file)\n",
    "        image.load()\n",
    "        return image\n",
    "\n",
    "    def __getitem__(self, index):\n",
    "        if self.mode == \"train\":\n",
    "            transform = transforms.Compose([\n",
    "                        transforms.Resize(size=RESCALE_SIZE),\n",
    "                        transforms.RandomRotation(degrees=180),\n",
    "                        # ADDITIONAL AUGMENTATIONS\n",
    "                        transforms.ToTensor(),\n",
    "                        #transforms.Normalize([0.572], [0.048])\n",
    "            ])\n",
    "        \n",
    "        else:\n",
    "            transform = transforms.Compose([\n",
    "                        transforms.Resize(size=RESCALE_SIZE),\n",
    "                        transforms.ToTensor(),\n",
    "                        #transforms.Normalize([0.572], [0.048])\n",
    "            ])\n",
    "\n",
    "        x = self.load_sample(self.files[index])\n",
    "        x = transform(x)\n",
    "        label = self.labels[index]\n",
    "        label_id = self.label_encoder.transform([label])\n",
    "        y = label_id.item()\n",
    "\n",
    "        return x, y"
   ]
  },
  {
   "cell_type": "markdown",
   "metadata": {
    "id": "TJg512gJBBtO"
   },
   "source": [
    "Оказывается, что не все изображения имеют 1 канал..."
   ]
  },
  {
   "cell_type": "markdown",
   "metadata": {
    "id": "rwD8O7FOBG9i"
   },
   "source": [
    "Исправить это можно двумя пуятми: просто убрать эти картинки или усреднять по первым трем каналам изображение, делая из него одноканальное. Реализуем второй вариант в `__getitem__`"
   ]
  },
  {
   "cell_type": "markdown",
   "metadata": {
    "id": "-FrFxK6iBVz5"
   },
   "source": [
    "## Класс для тренировки и валидации модели"
   ]
  },
  {
   "cell_type": "code",
   "execution_count": 11,
   "metadata": {
    "id": "RrWHrKVJuSZ0"
   },
   "outputs": [],
   "source": [
    "class Trainer:\n",
    "    def __init__(self, model, epochs, criterion,\n",
    "                 optimizer, trainloader,\n",
    "                 validloader, device, metric,\n",
    "                 validate=True, scheduler=None,\n",
    "                 verbose=2):\n",
    "        self.model = model.to(device)\n",
    "        self.epochs = epochs\n",
    "        self.criterion = criterion\n",
    "        self.optimizer = optimizer\n",
    "        self.trainloader = trainloader\n",
    "        self.validloader = validloader\n",
    "        self.device = device\n",
    "        self.metric = metric\n",
    "        self.validate = validate\n",
    "        self.verbose = verbose\n",
    "        self.scheduler = scheduler\n",
    "        self.get_probs = nn.Softmax(dim=0)\n",
    "        self.train_losses = []\n",
    "        self.valid_losses = []\n",
    "        self.train_metrics = []\n",
    "        self.valid_metrics = []\n",
    "\n",
    "    def fit(self, epochs=None):\n",
    "        if epochs is None:\n",
    "            epochs = self.epochs\n",
    "\n",
    "        for epoch in range(epochs):\n",
    "            train_loss, train_metric = self._train(self.trainloader)\n",
    "            self.train_losses.append(train_loss)\n",
    "            self.train_metrics.append(train_metric)\n",
    "\n",
    "            if self.validate:\n",
    "                val_loss, val_metric = self._validate(self.validloader)\n",
    "                self.valid_losses.append(val_loss)\n",
    "                self.valid_metrics.append(val_metric)\n",
    "\n",
    "                if self.scheduler is not None:\n",
    "                    self.scheduler.step(val_loss)\n",
    "            else:\n",
    "                val_loss = \"NO\"\n",
    "\n",
    "            if self.verbose > 0:\n",
    "                print()\n",
    "                print(f\"Epoch {epoch+1} out of {epochs}: Train loss = {train_loss}, validation loss = {val_loss} \\n\\\n",
    "                                         Train metric = {train_metric}, validation metric = {val_metric}\")\n",
    "                print()\n",
    "        \n",
    "        return self\n",
    "\n",
    "    def _train(self, loader):\n",
    "        self.model.train()\n",
    "        epoch_loss = 0\n",
    "        epoch_preds = []\n",
    "        epoch_targets = []\n",
    "        for i, (inputs, targets) in enumerate(loader):\n",
    "            inputs, targets = inputs.to(self.device), targets.to(self.device)\n",
    "            out = self.model(inputs)\n",
    "            loss = self.criterion(out, targets)\n",
    "            epoch_loss += loss.item()\n",
    "            self.optimizer.zero_grad()\n",
    "            loss.backward()\n",
    "\n",
    "            if self.verbose > 1:\n",
    "                print(f\"\\rTraining: batch {i+1} out of {len(loader)}\", end=\"\")\n",
    "\n",
    "            self.optimizer.step()\n",
    "\n",
    "            out = self.get_probs(out)\n",
    "            _, preds = torch.max(out.data, 1)\n",
    "            epoch_preds += list(preds.cpu())\n",
    "            epoch_targets += list(targets.detach().cpu())\n",
    "\n",
    "            self._clear_vram(inputs, targets, out)\n",
    "\n",
    "        epoch_loss = epoch_loss/len(loader)\n",
    "        epoch_metric = self.metric(epoch_targets, epoch_preds)\n",
    "        print(\"\\n\", end=\"\")\n",
    "\n",
    "        return epoch_loss, epoch_metric\n",
    "\n",
    "    def _validate(self, loader):\n",
    "        self.model.eval()\n",
    "        epoch_loss = 0\n",
    "        epoch_preds = []\n",
    "        epoch_targets = []\n",
    "        with torch.no_grad():\n",
    "            for i, (inputs, targets) in enumerate(loader):\n",
    "                inputs, targets = inputs.to(self.device), targets.to(self.device)              \n",
    "                out = self.model(inputs)\n",
    "                loss = self.criterion(out, targets)\n",
    "\n",
    "                if self.verbose > 1:\n",
    "                    print(f\"\\rValidation: batch {i+1} out of {len(loader)}\", end=\"\")\n",
    "\n",
    "                epoch_loss += loss.item()\n",
    "                out = self.get_probs(out)\n",
    "                _, preds = torch.max(out.data, 1)\n",
    "                epoch_preds += list(preds.cpu())\n",
    "                epoch_targets += list(targets.detach().cpu())\n",
    "\n",
    "                self._clear_vram(inputs, targets, out)\n",
    "\n",
    "        epoch_loss = epoch_loss/len(loader)\n",
    "        epoch_metric = self.metric(epoch_targets, epoch_preds)\n",
    "        print(\"\\n\", end=\"\")\n",
    "\n",
    "        return epoch_loss, epoch_metric\n",
    "    \n",
    "    def _clear_vram(self, inputs, labels, outputs):\n",
    "        inputs = inputs.to(\"cpu\")\n",
    "        labels = labels.to(\"cpu\")\n",
    "        outputs = outputs.to(\"cpu\")\n",
    "        del inputs, labels, outputs\n",
    "        torch.cuda.empty_cache()"
   ]
  },
  {
   "cell_type": "code",
   "execution_count": 12,
   "metadata": {
    "id": "gN0F3lzjXHBY"
   },
   "outputs": [],
   "source": [
    "def predict(model, loader):\n",
    "    model.eval()\n",
    "    predictions = []\n",
    "    targ = []\n",
    "    with torch.no_grad():\n",
    "        for i, (inputs, targets) in enumerate(loader):\n",
    "            inputs, targets = inputs.to(DEVICE), targets.to(DEVICE)              \n",
    "            out = model(inputs)\n",
    "            out = nn.functional.softmax(out, dim=-1)\n",
    "            _, preds = torch.max(out.data, 1)\n",
    "            predictions += list(preds)\n",
    "            targ += list(targets)\n",
    "    \n",
    "    return predictions, targ\n",
    "\n",
    "def calculate_metric(model, loader, metric=None):\n",
    "    if metric is None:\n",
    "        metric = accuracy_score\n",
    "    \n",
    "    preds, targets = predict(model, loader)\n",
    "    preds = [i.item() for i in preds]\n",
    "    targets = [i.item() for i in targets]\n",
    "\n",
    "    return metric(targets, preds)"
   ]
  },
  {
   "cell_type": "markdown",
   "metadata": {
    "id": "AG9YHjeOBirG"
   },
   "source": [
    "Эта часть кода нужна лишь для того, чтобы из tiff сделать jpeg. Иначе в процессе получения батчей иногда возникали странные ошибки."
   ]
  },
  {
   "cell_type": "markdown",
   "metadata": {
    "id": "q3wBR5SQBtvc"
   },
   "source": [
    "Получем список всех файлов. Создаем для каждого метку класса и делим на тренировку и валидацию."
   ]
  },
  {
   "cell_type": "code",
   "execution_count": 13,
   "metadata": {
    "colab": {
     "base_uri": "https://localhost:8080/"
    },
    "id": "QmsOmhtyqMwy",
    "outputId": "9ce618f0-57a7-4db0-a956-fd7116508482"
   },
   "outputs": [
    {
     "data": {
      "text/plain": [
       "525"
      ]
     },
     "execution_count": 13,
     "metadata": {},
     "output_type": "execute_result"
    }
   ],
   "source": [
    "# Мы пойдем своим путем: сначала сделаем кроссвалидацию на трэйне, потом будем сверяться с валом, а тест используем единственный раз -- в конце\n",
    "train_val_files = sorted(list(Path(DATA_PATH).rglob(\"*.jpg\")))\n",
    "train_val_labels = [path.parent.name for path in train_val_files]\n",
    "train_files, val_files = train_test_split(train_val_files, test_size=0.25, \\\n",
    "                                          stratify=train_val_labels)\n",
    "N_CLASSES = len(set(train_val_labels))\n",
    "N_CLASSES"
   ]
  },
  {
   "cell_type": "code",
   "execution_count": 53,
   "metadata": {},
   "outputs": [
    {
     "data": {
      "text/plain": [
       "{'AMETHYST WOODSTAR': 130,\n",
       " 'EURASIAN GOLDEN ORIOLE': 130,\n",
       " 'NORTHERN RED BISHOP': 130,\n",
       " 'PATAGONIAN SIERRA FINCH': 130,\n",
       " 'RED TAILED THRUSH': 130,\n",
       " 'SNOWY PLOVER': 130,\n",
       " 'BLACK FRANCOLIN': 131,\n",
       " 'GO AWAY BIRD': 131,\n",
       " 'INDIAN BUSTARD': 131,\n",
       " 'MASKED LAPWING': 131,\n",
       " 'TASMANIAN HEN': 131,\n",
       " 'ALBATROSS': 132,\n",
       " 'BALI STARLING': 132,\n",
       " 'BARN SWALLOW': 132,\n",
       " 'BARROWS GOLDENEYE': 132,\n",
       " 'BLACK COCKATO': 132,\n",
       " 'CHESTNET BELLIED EUPHONIA': 132,\n",
       " 'MASKED BOOBY': 132,\n",
       " 'ORANGE BRESTED BUNTING': 132,\n",
       " 'ROCK DOVE': 132,\n",
       " 'SCARLET TANAGER': 132,\n",
       " 'SNOWY EGRET': 132,\n",
       " 'AMERICAN GOLDFINCH': 133,\n",
       " 'BLACK-CAPPED CHICKADEE': 133,\n",
       " 'CAPE LONGCLAW': 133,\n",
       " 'CAPUCHINBIRD': 133,\n",
       " 'COMMON IORA': 133,\n",
       " 'RED HEADED WOODPECKER': 133,\n",
       " 'ANDEAN GOOSE': 134,\n",
       " 'BLACKBURNIAM WARBLER': 134,\n",
       " 'EASTERN BLUEBONNET': 134,\n",
       " 'HARLEQUIN QUAIL': 134,\n",
       " 'AFRICAN CROWNED CRANE': 135,\n",
       " 'BLACK THROATED WARBLER': 135,\n",
       " 'CRANE HAWK': 135,\n",
       " 'EUROPEAN GOLDFINCH': 135,\n",
       " 'GOLDEN CHLOROPHONIA': 135,\n",
       " 'HOODED MERGANSER': 135,\n",
       " 'MALLARD DUCK': 135,\n",
       " 'RUBY THROATED HUMMINGBIRD': 135,\n",
       " 'STORK BILLED KINGFISHER': 135,\n",
       " 'AZURE JAY': 136,\n",
       " 'BARRED PUFFBIRD': 136,\n",
       " 'DARJEELING WOODPECKER': 136,\n",
       " 'FAIRY TERN': 136,\n",
       " 'KING VULTURE': 136,\n",
       " 'RED BROWED FINCH': 136,\n",
       " 'TAIWAN MAGPIE': 136,\n",
       " 'TOUCHAN': 136,\n",
       " 'AFRICAN FIREFINCH': 137,\n",
       " 'AZURE TANAGER': 137,\n",
       " 'BALTIMORE ORIOLE': 137,\n",
       " 'BLACK-NECKED GREBE': 137,\n",
       " 'CAPPED HERON': 137,\n",
       " 'CHATTERING LORY': 137,\n",
       " 'CURL CRESTED ARACURI': 137,\n",
       " 'GUINEAFOWL': 137,\n",
       " 'MANGROVE CUCKOO': 137,\n",
       " 'NORTHERN FULMAR': 137,\n",
       " 'TRUMPTER SWAN': 137,\n",
       " 'CUBAN TROGON': 138,\n",
       " 'EUROPEAN TURTLE DOVE': 138,\n",
       " 'GILDED FLICKER': 138,\n",
       " 'GREAT POTOO': 138,\n",
       " 'KIWI': 138,\n",
       " 'LILAC ROLLER': 138,\n",
       " 'SCARLET IBIS': 138,\n",
       " 'WATTLED CURASSOW': 138,\n",
       " 'WHIMBREL': 138,\n",
       " 'AMERICAN REDSTART': 139,\n",
       " 'ANNAS HUMMINGBIRD': 139,\n",
       " 'ANTILLEAN EUPHONIA': 139,\n",
       " 'COMMON FIRECREST': 139,\n",
       " 'CREAM COLORED WOODPECKER': 139,\n",
       " 'DEMOISELLE CRANE': 139,\n",
       " 'DUSKY LORY': 139,\n",
       " 'ECUADORIAN HILLSTAR': 139,\n",
       " 'EMERALD TANAGER': 139,\n",
       " 'NORTHERN FLICKER': 139,\n",
       " 'ROSY FACED LOVEBIRD': 139,\n",
       " 'TRICOLORED BLACKBIRD': 139,\n",
       " 'DUSKY ROBIN': 140,\n",
       " 'GOLDEN BOWER BIRD': 140,\n",
       " 'GREEN BROADBILL': 140,\n",
       " 'NORTHERN MOCKINGBIRD': 140,\n",
       " 'POMARINE JAEGER': 140,\n",
       " 'RAINBOW LORIKEET': 140,\n",
       " 'ASIAN DOLLARD BIRD': 141,\n",
       " 'AZURE BREASTED PITTA': 141,\n",
       " 'CHUCAO TAPACULO': 141,\n",
       " 'COMMON STARLING': 141,\n",
       " 'IBISBILL': 141,\n",
       " 'MYNA': 141,\n",
       " 'TAILORBIRD': 141,\n",
       " 'BEARDED BELLBIRD': 142,\n",
       " 'BLACK AND YELLOW BROADBILL': 142,\n",
       " 'CRESTED FIREBACK': 142,\n",
       " 'GANG GANG COCKATOO': 142,\n",
       " 'MAGPIE GOOSE': 142,\n",
       " 'ROYAL FLYCATCHER': 142,\n",
       " 'WATTLED LAPWING': 142,\n",
       " 'BAY-BREASTED WARBLER': 143,\n",
       " 'BURCHELLS COURSER': 143,\n",
       " 'GREY HEADED FISH EAGLE': 143,\n",
       " 'JABIRU': 143,\n",
       " 'KOOKABURRA': 143,\n",
       " 'MALAGASY WHITE EYE': 143,\n",
       " 'STRIPED OWL': 143,\n",
       " 'ANDEAN LAPWING': 144,\n",
       " 'BEARDED REEDLING': 144,\n",
       " 'BLONDE CRESTED WOODPECKER': 144,\n",
       " 'CHINESE POND HERON': 144,\n",
       " 'COPPERY TAILED COUCAL': 144,\n",
       " 'CRAB PLOVER': 144,\n",
       " 'ELEGANT TROGON': 144,\n",
       " 'EVENING GROSBEAK': 144,\n",
       " 'GREAT GRAY OWL': 144,\n",
       " 'IMPERIAL SHAQ': 144,\n",
       " 'KAGU': 144,\n",
       " 'SPOON BILED SANDPIPER': 144,\n",
       " 'STRIPPED MANAKIN': 144,\n",
       " 'BLACK THROATED HUET': 145,\n",
       " 'DAURIAN REDSTART': 146,\n",
       " 'RED BELLIED PITTA': 146,\n",
       " 'AMERICAN ROBIN': 147,\n",
       " 'DOUBLE BARRED FINCH': 148,\n",
       " 'CAPE MAY WARBLER': 149,\n",
       " 'GREAT XENOPS': 149,\n",
       " 'HORNED SUNGEM': 149,\n",
       " 'IVORY BILLED ARACARI': 149,\n",
       " 'ALTAMIRA YELLOWTHROAT': 150,\n",
       " 'ANIANIAU': 150,\n",
       " 'ANTBIRD': 150,\n",
       " 'BAIKAL TEAL': 150,\n",
       " 'BLUE THROATED TOUCANET': 150,\n",
       " 'EASTERN WIP POOR WILL': 150,\n",
       " 'FAN TAILED WIDOW': 150,\n",
       " 'FASCIATED WREN': 150,\n",
       " 'FIERY MINIVET': 150,\n",
       " 'FIRE TAILLED MYZORNIS': 150,\n",
       " 'GOLDEN PARAKEET': 150,\n",
       " 'HIMALAYAN BLUETAIL': 150,\n",
       " 'INDIAN VULTURE': 150,\n",
       " 'SPOTTED CATBIRD': 150,\n",
       " 'BIRD OF PARADISE': 151,\n",
       " 'HARLEQUIN DUCK': 151,\n",
       " 'HIMALAYAN MONAL': 151,\n",
       " 'SAND MARTIN': 151,\n",
       " 'VICTORIA CROWNED PIGEON': 151,\n",
       " 'ARARIPE MANAKIN': 152,\n",
       " 'BALD IBIS': 152,\n",
       " 'BORNEAN PHEASANT': 152,\n",
       " 'CALIFORNIA CONDOR': 152,\n",
       " 'CRESTED COUA': 152,\n",
       " 'CRESTED NUTHATCH': 152,\n",
       " 'EASTERN GOLDEN WEAVER': 152,\n",
       " 'EMPEROR PENGUIN': 152,\n",
       " 'FIORDLAND PENGUIN': 152,\n",
       " 'GRANDALA': 152,\n",
       " 'INDIGO FLYCATCHER': 152,\n",
       " 'OSPREY': 152,\n",
       " 'QUETZAL': 152,\n",
       " 'RED WINGED BLACKBIRD': 152,\n",
       " 'RING-NECKED PHEASANT': 152,\n",
       " 'ROUGH LEG BUZZARD': 152,\n",
       " 'SQUACCO HERON': 152,\n",
       " 'VENEZUELIAN TROUPIAL': 152,\n",
       " 'ANHINGA': 153,\n",
       " 'APOSTLEBIRD': 153,\n",
       " 'BANDED STILT': 153,\n",
       " 'BLOOD PHEASANT': 153,\n",
       " 'CHARA DE COLLAR': 153,\n",
       " 'GAMBELS QUAIL': 153,\n",
       " 'INDIGO BUNTING': 153,\n",
       " 'MOURNING DOVE': 153,\n",
       " 'NORTHERN SHOVELER': 153,\n",
       " 'PURPLE FINCH': 153,\n",
       " 'PURPLE GALLINULE': 153,\n",
       " 'RED FACED CORMORANT': 153,\n",
       " 'SAMATRAN THRUSH': 153,\n",
       " 'WHITE CHEEKED TURACO': 153,\n",
       " 'WILD TURKEY': 153,\n",
       " 'AFRICAN EMERALD CUCKOO': 154,\n",
       " 'ANDEAN SISKIN': 154,\n",
       " 'APAPANE': 154,\n",
       " 'AUSTRAL CANASTERO': 154,\n",
       " 'BELTED KINGFISHER': 154,\n",
       " 'BORNEAN BRISTLEHEAD': 154,\n",
       " 'BRANDT CORMARANT': 154,\n",
       " 'BROWN NOODY': 154,\n",
       " 'CAPE GLOSSY STARLING': 154,\n",
       " 'CRIMSON CHAT': 154,\n",
       " 'EARED PITA': 154,\n",
       " 'EASTERN BLUEBIRD': 154,\n",
       " 'EURASIAN MAGPIE': 154,\n",
       " 'FAIRY PENGUIN': 154,\n",
       " 'GREEN WINGED DOVE': 154,\n",
       " 'KAKAPO': 154,\n",
       " 'LESSER ADJUTANT': 154,\n",
       " 'MALABAR HORNBILL': 154,\n",
       " 'MANDRIN DUCK': 154,\n",
       " 'MIKADO  PHEASANT': 154,\n",
       " 'NICOBAR PIGEON': 154,\n",
       " 'NORTHERN GANNET': 154,\n",
       " 'PHILIPPINE EAGLE': 154,\n",
       " 'PINK ROBIN': 154,\n",
       " 'PURPLE SWAMPHEN': 154,\n",
       " 'SCARLET CROWNED FRUIT DOVE': 154,\n",
       " 'SUPERB STARLING': 154,\n",
       " 'TIT MOUSE': 154,\n",
       " 'TROPICAL KINGBIRD': 154,\n",
       " 'WHITE BROWED CRAKE': 154,\n",
       " 'YELLOW BELLIED FLOWERPECKER': 154,\n",
       " 'AFRICAN OYSTER CATCHER': 155,\n",
       " 'AMERICAN KESTREL': 155,\n",
       " 'BLACK SKIMMER': 155,\n",
       " 'BLUE COAU': 155,\n",
       " 'BULWERS PHEASANT': 155,\n",
       " 'CAATINGA CACHOLOTE': 155,\n",
       " 'CAPE ROCK THRUSH': 155,\n",
       " 'CRESTED CARACARA': 155,\n",
       " 'GILA WOODPECKER': 155,\n",
       " 'GOULDIAN FINCH': 155,\n",
       " 'GRAY CATBIRD': 155,\n",
       " 'GROVED BILLED ANI': 155,\n",
       " 'HOATZIN': 155,\n",
       " 'HOOPOES': 155,\n",
       " 'HOUSE SPARROW': 155,\n",
       " 'IWI': 155,\n",
       " 'NORTHERN CARDINAL': 155,\n",
       " 'PARAKETT  AUKLET': 155,\n",
       " 'TEAL DUCK': 155,\n",
       " 'UMBRELLA BIRD': 155,\n",
       " 'VERMILION FLYCATHER': 155,\n",
       " 'WILSONS BIRD OF PARADISE': 155,\n",
       " 'YELLOW CACIQUE': 155,\n",
       " 'ASIAN CRESTED IBIS': 156,\n",
       " 'BLACK BAZA': 156,\n",
       " 'BLACK VULTURE': 156,\n",
       " 'CRESTED SHRIKETIT': 156,\n",
       " 'GREEN JAY': 156,\n",
       " 'IVORY GULL': 156,\n",
       " 'LOONEY BIRDS': 156,\n",
       " 'NORTHERN JACANA': 156,\n",
       " 'PEACOCK': 156,\n",
       " 'PEREGRINE FALCON': 156,\n",
       " 'RUFOUS KINGFISHER': 156,\n",
       " 'SANDHILL CRANE': 156,\n",
       " 'TURQUOISE MOTMOT': 156,\n",
       " 'BOBOLINK': 157,\n",
       " 'COMMON HOUSE MARTIN': 157,\n",
       " 'DOWNY WOODPECKER': 157,\n",
       " 'EASTERN TOWEE': 157,\n",
       " 'EGYPTIAN GOOSE': 157,\n",
       " 'GREATER PEWEE': 157,\n",
       " 'HORNED GUAN': 157,\n",
       " 'LAZULI BUNTING': 157,\n",
       " 'NOISY FRIARBIRD': 157,\n",
       " 'ORIENTAL BAY OWL': 157,\n",
       " 'SCARLET MACAW': 157,\n",
       " 'AMERICAN COOT': 158,\n",
       " 'BARN OWL': 158,\n",
       " 'GOLDEN EAGLE': 158,\n",
       " 'GOLDEN PIPIT': 158,\n",
       " 'GREY PLOVER': 158,\n",
       " 'JAPANESE ROBIN': 158,\n",
       " 'DALMATIAN PELICAN': 159,\n",
       " 'FRIGATE': 159,\n",
       " 'GOLD WING WARBLER': 159,\n",
       " 'GOLDEN PHEASANT': 159,\n",
       " 'GREY CUCKOOSHRIKE': 159,\n",
       " 'IBERIAN MAGPIE': 159,\n",
       " 'JACK SNIPE': 159,\n",
       " 'MALEO': 159,\n",
       " 'OCELLATED TURKEY': 159,\n",
       " 'RED NAPED TROGON': 159,\n",
       " 'WHITE CRESTED HORNBILL': 159,\n",
       " 'YELLOW HEADED BLACKBIRD': 159,\n",
       " 'BALD EAGLE': 160,\n",
       " 'BEARDED BARBET': 160,\n",
       " 'BORNEAN LEAFBIRD': 160,\n",
       " 'BUSH TURKEY': 160,\n",
       " 'CALIFORNIA GULL': 160,\n",
       " 'CANARY': 160,\n",
       " 'CASSOWARY': 160,\n",
       " 'CRESTED AUKLET': 160,\n",
       " 'EASTERN ROSELLA': 160,\n",
       " 'FAIRY BLUEBIRD': 160,\n",
       " 'GRAY PARTRIDGE': 160,\n",
       " 'HAWAIIAN GOOSE': 160,\n",
       " 'HELMET VANGA': 160,\n",
       " 'HEPATIC TANAGER': 160,\n",
       " 'LARK BUNTING': 160,\n",
       " 'LONG-EARED OWL': 160,\n",
       " 'NORTHERN GOSHAWK': 160,\n",
       " 'OKINAWA RAIL': 160,\n",
       " 'PALILA': 160,\n",
       " 'PURPLE MARTIN': 160,\n",
       " 'RED HEADED DUCK': 160,\n",
       " 'ROADRUNNER': 160,\n",
       " 'RUDY KINGFISHER': 160,\n",
       " 'SCARLET FACED LIOCICHLA': 160,\n",
       " 'SMITHS LONGSPUR': 160,\n",
       " 'SPANGLED COTINGA': 160,\n",
       " 'STEAMER DUCK': 160,\n",
       " 'STRIPPED SWALLOW': 160,\n",
       " 'WHITE NECKED RAVEN': 160,\n",
       " 'ALBERTS TOWHEE': 161,\n",
       " 'CALIFORNIA QUAIL': 161,\n",
       " 'CINNAMON TEAL': 161,\n",
       " 'CLARKS NUTCRACKER': 161,\n",
       " 'COMMON LOON': 161,\n",
       " 'COMMON POORWILL': 161,\n",
       " 'INLAND DOTTEREL': 161,\n",
       " 'OSTRICH': 161,\n",
       " 'PARUS MAJOR': 161,\n",
       " 'SNOWY OWL': 161,\n",
       " 'SPLENDID WREN': 161,\n",
       " 'SRI LANKA BLUE MAGPIE': 161,\n",
       " 'TAKAHE': 161,\n",
       " 'WHITE BREASTED WATERHEN': 161,\n",
       " 'BLACK FACED SPOONBILL': 162,\n",
       " 'CACTUS WREN': 162,\n",
       " 'CARMINE BEE-EATER': 162,\n",
       " 'CHIPPING SPARROW': 162,\n",
       " 'CINNAMON ATTILA': 162,\n",
       " 'CINNAMON FLYCATCHER': 162,\n",
       " 'CUBAN TODY': 162,\n",
       " 'ELLIOTS  PHEASANT': 162,\n",
       " 'FLAME BOWERBIRD': 162,\n",
       " 'GUINEA TURACO': 162,\n",
       " 'GURNEYS PITTA': 162,\n",
       " 'GYRFALCON': 162,\n",
       " 'JANDAYA PARAKEET': 162,\n",
       " 'RED WISKERED BULBUL': 162,\n",
       " 'VIOLET TURACO': 162,\n",
       " 'ABBOTTS BABBLER': 163,\n",
       " 'BAND TAILED GUAN': 163,\n",
       " 'BLACK THROATED BUSHTIT': 163,\n",
       " 'BROWN THRASHER': 163,\n",
       " 'CERULEAN WARBLER': 163,\n",
       " 'COCK OF THE  ROCK': 163,\n",
       " 'CRESTED KINGFISHER': 163,\n",
       " 'CROW': 163,\n",
       " 'EMU': 163,\n",
       " 'GREAT JACAMAR': 163,\n",
       " 'HAMERKOP': 163,\n",
       " 'INCA TERN': 163,\n",
       " 'JOCOTOCO ANTPITTA': 163,\n",
       " 'MALACHITE KINGFISHER': 163,\n",
       " 'PAINTED BUNTING': 163,\n",
       " 'RUDDY SHELDUCK': 163,\n",
       " 'TURKEY VULTURE': 163,\n",
       " 'VISAYAN HORNBILL': 163,\n",
       " 'AMERICAN FLAMINGO': 164,\n",
       " 'ASHY THRUSHBIRD': 164,\n",
       " 'AVADAVAT': 164,\n",
       " 'BLACK SWAN': 164,\n",
       " 'CRESTED OROPENDOLA': 164,\n",
       " 'GRAY KINGBIRD': 164,\n",
       " 'JAVA SPARROW': 164,\n",
       " 'REGENT BOWERBIRD': 164,\n",
       " 'SHORT BILLED DOWITCHER': 164,\n",
       " 'WHITE THROATED BEE EATER': 164,\n",
       " 'ALEXANDRINE PARAKEET': 165,\n",
       " 'AZURE TIT': 165,\n",
       " 'BANANAQUIT': 165,\n",
       " 'BLACK TAIL CRAKE': 165,\n",
       " 'CHINESE BAMBOO PARTRIDGE': 165,\n",
       " 'ENGGANO MYNA': 165,\n",
       " 'GREAT TINAMOU': 165,\n",
       " 'HYACINTH MACAW': 165,\n",
       " 'TOWNSENDS WARBLER': 165,\n",
       " 'ALPINE CHOUGH': 166,\n",
       " 'BANDED PITA': 166,\n",
       " 'COCKATOO': 166,\n",
       " 'DOUBLE EYED FIG PARROT': 166,\n",
       " 'EURASIAN BULLFINCH': 166,\n",
       " 'PUFFIN': 166,\n",
       " 'BLUE HERON': 167,\n",
       " 'CHUKAR PARTRIDGE': 167,\n",
       " 'HAWFINCH': 167,\n",
       " 'RED FACED WARBLER': 167,\n",
       " 'RED FODY': 167,\n",
       " 'AZARAS SPINETAIL': 168,\n",
       " 'BAR-TAILED GODWIT': 168,\n",
       " 'BLACK-THROATED SPARROW': 168,\n",
       " 'LUCIFER HUMMINGBIRD': 168,\n",
       " 'GREAT KISKADEE': 169,\n",
       " 'RED LEGGED HONEYCREEPER': 169,\n",
       " 'SATYR TRAGOPAN': 169,\n",
       " 'SUNBITTERN': 169,\n",
       " 'VULTURINE GUINEAFOWL': 169,\n",
       " 'AMERICAN BITTERN': 170,\n",
       " 'BLUE GROSBEAK': 170,\n",
       " 'CHESTNUT WINGED CUCKOO': 170,\n",
       " 'KING EIDER': 170,\n",
       " 'ZEBRA DOVE': 170,\n",
       " 'BLACK BREASTED PUFFBIRD': 172,\n",
       " 'COLLARED CRESCENTCHEST': 172,\n",
       " 'FOREST WAGTAIL': 172,\n",
       " 'RED SHOULDERED HAWK': 172,\n",
       " 'WALL CREAPER': 172,\n",
       " 'BLACK NECKED STILT': 173,\n",
       " 'BLUE DACNIS': 173,\n",
       " 'HORNED LARK': 173,\n",
       " 'PYGMY KINGFISHER': 173,\n",
       " 'ROSE BREASTED GROSBEAK': 174,\n",
       " 'GLOSSY IBIS': 175,\n",
       " 'HARPY EAGLE': 175,\n",
       " 'KILLDEAR': 175,\n",
       " 'LITTLE AUK': 175,\n",
       " 'SHOEBILL': 175,\n",
       " 'SNOW PARTRIDGE': 175,\n",
       " 'VIOLET CUCKOO': 175,\n",
       " 'WHITE TAILED TROPIC': 175,\n",
       " 'GOLDEN CHEEKED WARBLER': 176,\n",
       " 'GREEN MAGPIE': 176,\n",
       " 'PARADISE TANAGER': 176,\n",
       " 'WHITE EARED HUMMINGBIRD': 176,\n",
       " 'BROWN CREPPER': 177,\n",
       " 'CABOTS TRAGOPAN': 177,\n",
       " 'COLLARED ARACARI': 177,\n",
       " 'COMMON GRACKLE': 177,\n",
       " 'FLAME TANAGER': 177,\n",
       " 'ABYSSINIAN GROUND HORNBILL': 179,\n",
       " 'AFRICAN PYGMY GOOSE': 179,\n",
       " 'AMERICAN AVOCET': 179,\n",
       " 'AMERICAN PIPIT': 179,\n",
       " 'ABBOTTS BOOBY': 180,\n",
       " 'CEDAR WAXWING': 180,\n",
       " 'BLACK HEADED CAIQUE': 181,\n",
       " 'CRESTED SERPENT EAGLE': 181,\n",
       " 'TREE SWALLOW': 181,\n",
       " 'CLARKS GREBE': 182,\n",
       " 'OILBIRD': 182,\n",
       " 'VERDIN': 182,\n",
       " 'BREWERS BLACKBIRD': 183,\n",
       " 'INDIAN ROLLER': 183,\n",
       " 'MASKED BOBWHITE': 183,\n",
       " 'BUFFLEHEAD': 184,\n",
       " 'GREATOR SAGE GROUSE': 184,\n",
       " 'SPOTTED WHISTLING DUCK': 184,\n",
       " 'BLUE GROUSE': 185,\n",
       " 'CANVASBACK': 185,\n",
       " 'DOUBLE BRESTED CORMARANT': 185,\n",
       " 'NORTHERN BEARDLESS TYRANNULET': 185,\n",
       " 'PUNA TEAL': 185,\n",
       " 'SURF SCOTER': 185,\n",
       " 'BLUE MALKOHA': 186,\n",
       " 'INDIAN PITTA': 186,\n",
       " 'RUBY CROWNED KINGLET': 186,\n",
       " 'AFRICAN PIED HORNBILL': 187,\n",
       " 'AMERICAN WIGEON': 187,\n",
       " 'AUCKLAND SHAQ': 187,\n",
       " 'MCKAYS BUNTING': 187,\n",
       " 'SNOWY SHEATHBILL': 187,\n",
       " 'TAWNY FROGMOUTH': 187,\n",
       " 'ASHY STORM PETREL': 188,\n",
       " 'BLACK VENTED SHEARWATER': 188,\n",
       " 'PHAINOPEPLA': 188,\n",
       " 'GREAT ARGUS': 189,\n",
       " 'RUFUOS MOTMOT': 189,\n",
       " 'ASIAN OPENBILL STORK': 190,\n",
       " 'AUSTRALASIAN FIGBIRD': 190,\n",
       " 'DUNLIN': 190,\n",
       " 'EASTERN MEADOWLARK': 190,\n",
       " 'LOGGERHEAD SHRIKE': 190,\n",
       " 'SNOW GOOSE': 190,\n",
       " 'VEERY': 190,\n",
       " 'RED CROSSBILL': 191,\n",
       " 'BROWN HEADED COWBIRD': 192,\n",
       " 'ORANGE BREASTED TROGON': 192,\n",
       " 'PALM NUT VULTURE': 192,\n",
       " 'AMERICAN DIPPER': 193,\n",
       " 'RAZORBILL': 193,\n",
       " 'ROSEATE SPOONBILL': 193,\n",
       " 'VARIED THRUSH': 193,\n",
       " 'WRENTIT': 193,\n",
       " 'BANDED BROADBILL': 194,\n",
       " 'WOODLAND KINGFISHER': 194,\n",
       " 'BLUE GRAY GNATCATCHER': 195,\n",
       " 'WILLOW PTARMIGAN': 195,\n",
       " 'COPPERSMITH BARBET': 196,\n",
       " 'NORTHERN PARULA': 196,\n",
       " 'STRIATED CARACARA': 196,\n",
       " 'CAMPO FLICKER': 197,\n",
       " 'CRESTED WOOD PARTRIDGE': 197,\n",
       " 'KNOB BILLED DUCK': 197,\n",
       " 'MARABOU STORK': 197,\n",
       " 'RED BEARDED BEE EATER': 197,\n",
       " 'ROSE BREASTED COCKATOO': 197,\n",
       " 'SAYS PHOEBE': 197,\n",
       " 'BLUE THROATED PIPING GUAN': 198,\n",
       " 'CRIMSON SUNBIRD': 198,\n",
       " 'GREY HEADED CHACHALACA': 199,\n",
       " 'LIMPKIN': 200,\n",
       " 'PLUSH CRESTED JAY': 200,\n",
       " 'RED KNOT': 200,\n",
       " 'SORA': 200,\n",
       " 'VIOLET BACKED STARLING': 201,\n",
       " 'VIOLET GREEN SWALLOW': 201,\n",
       " 'RED TAILED HAWK': 202,\n",
       " 'YELLOW BREASTED CHAT': 202,\n",
       " 'DARK EYED JUNCO': 203,\n",
       " 'GREATER PRAIRIE CHICKEN': 203,\n",
       " 'JACOBIN PIGEON': 204,\n",
       " 'EASTERN YELLOW ROBIN': 205,\n",
       " 'LAUGHING GULL': 206,\n",
       " 'OYSTER CATCHER': 207,\n",
       " 'MILITARY MACAW': 208,\n",
       " 'ORNATE HAWK EAGLE': 208,\n",
       " 'FRILL BACK PIGEON': 209,\n",
       " 'MERLIN': 209,\n",
       " 'PYRRHULOXIA': 209,\n",
       " 'WOOD THRUSH': 211,\n",
       " 'RED BILLED TROPICBIRD': 212,\n",
       " 'CASPIAN TERN': 213,\n",
       " 'WOOD DUCK': 214,\n",
       " 'SWINHOES PHEASANT': 216,\n",
       " 'ASIAN GREEN BEE EATER': 220,\n",
       " 'D-ARNAUDS BARBET': 233,\n",
       " 'OVENBIRD': 233,\n",
       " 'HOUSE FINCH': 248,\n",
       " 'RUFOUS TREPE': 263}"
      ]
     },
     "execution_count": 53,
     "metadata": {},
     "output_type": "execute_result"
    }
   ],
   "source": [
    "from collections import Counter\n",
    "d = dict(Counter(train_val_labels))\n",
    "dict(sorted(d.items(), key= lambda x: x[1]))"
   ]
  },
  {
   "cell_type": "markdown",
   "metadata": {
    "id": "9YphvKSUEa_5"
   },
   "source": [
    "Важно посмотреть на распределение классов. Если оно у нас будет несбалансированным, то может быть, хорошей идеей поработать с этим (например, тот же upsampling редко представленных классов):"
   ]
  },
  {
   "cell_type": "markdown",
   "metadata": {
    "id": "uxRLNm6QB3ty"
   },
   "source": [
    "Создаем датасеты и даталоадеры."
   ]
  },
  {
   "cell_type": "code",
   "execution_count": 14,
   "metadata": {
    "id": "0StUEeE129Hp"
   },
   "outputs": [],
   "source": [
    "trainset = AviansDataset(train_files)\n",
    "valset = AviansDataset(val_files, mode=\"val\")\n",
    "\n",
    "trainloader = DataLoader(trainset, batch_size=BATCH_SIZE, shuffle=True)\n",
    "valloader = DataLoader(valset, batch_size=BATCH_SIZE, shuffle=False)"
   ]
  },
  {
   "cell_type": "markdown",
   "metadata": {
    "id": "2USUKwy-B-4K"
   },
   "source": [
    "Возьмем какую-то готовую модель, например, `VGG19` с батч-нормализацией:"
   ]
  },
  {
   "cell_type": "code",
   "execution_count": 15,
   "metadata": {
    "colab": {
     "base_uri": "https://localhost:8080/"
    },
    "id": "Epk-wb6xJfpk",
    "outputId": "76b046a6-3e24-44db-8ba6-2deaa43fb5ac"
   },
   "outputs": [
    {
     "name": "stderr",
     "output_type": "stream",
     "text": [
      "/usr/local/lib/python3.10/dist-packages/torchvision/models/_utils.py:208: UserWarning: The parameter 'pretrained' is deprecated since 0.13 and may be removed in the future, please use 'weights' instead.\n",
      "  warnings.warn(\n",
      "/usr/local/lib/python3.10/dist-packages/torchvision/models/_utils.py:223: UserWarning: Arguments other than a weight enum or `None` for 'weights' are deprecated since 0.13 and may be removed in the future. The current behavior is equivalent to passing `weights=VGG19_BN_Weights.IMAGENET1K_V1`. You can also use `weights=VGG19_BN_Weights.DEFAULT` to get the most up-to-date weights.\n",
      "  warnings.warn(msg)\n",
      "Downloading: \"https://download.pytorch.org/models/vgg19_bn-c79401a0.pth\" to /root/.cache/torch/hub/checkpoints/vgg19_bn-c79401a0.pth\n",
      "100%|██████████| 548M/548M [00:09<00:00, 61.9MB/s]\n"
     ]
    }
   ],
   "source": [
    "model = torchvision.models.vgg19_bn(pretrained=True)"
   ]
  },
  {
   "cell_type": "code",
   "execution_count": 16,
   "metadata": {
    "colab": {
     "base_uri": "https://localhost:8080/"
    },
    "id": "sRK-XMN4KkEo",
    "outputId": "cf87e2d2-8d58-4baa-ec30-f8293f73b268"
   },
   "outputs": [
    {
     "data": {
      "text/plain": [
       "VGG(\n",
       "  (features): Sequential(\n",
       "    (0): Conv2d(3, 64, kernel_size=(3, 3), stride=(1, 1), padding=(1, 1))\n",
       "    (1): BatchNorm2d(64, eps=1e-05, momentum=0.1, affine=True, track_running_stats=True)\n",
       "    (2): ReLU(inplace=True)\n",
       "    (3): Conv2d(64, 64, kernel_size=(3, 3), stride=(1, 1), padding=(1, 1))\n",
       "    (4): BatchNorm2d(64, eps=1e-05, momentum=0.1, affine=True, track_running_stats=True)\n",
       "    (5): ReLU(inplace=True)\n",
       "    (6): MaxPool2d(kernel_size=2, stride=2, padding=0, dilation=1, ceil_mode=False)\n",
       "    (7): Conv2d(64, 128, kernel_size=(3, 3), stride=(1, 1), padding=(1, 1))\n",
       "    (8): BatchNorm2d(128, eps=1e-05, momentum=0.1, affine=True, track_running_stats=True)\n",
       "    (9): ReLU(inplace=True)\n",
       "    (10): Conv2d(128, 128, kernel_size=(3, 3), stride=(1, 1), padding=(1, 1))\n",
       "    (11): BatchNorm2d(128, eps=1e-05, momentum=0.1, affine=True, track_running_stats=True)\n",
       "    (12): ReLU(inplace=True)\n",
       "    (13): MaxPool2d(kernel_size=2, stride=2, padding=0, dilation=1, ceil_mode=False)\n",
       "    (14): Conv2d(128, 256, kernel_size=(3, 3), stride=(1, 1), padding=(1, 1))\n",
       "    (15): BatchNorm2d(256, eps=1e-05, momentum=0.1, affine=True, track_running_stats=True)\n",
       "    (16): ReLU(inplace=True)\n",
       "    (17): Conv2d(256, 256, kernel_size=(3, 3), stride=(1, 1), padding=(1, 1))\n",
       "    (18): BatchNorm2d(256, eps=1e-05, momentum=0.1, affine=True, track_running_stats=True)\n",
       "    (19): ReLU(inplace=True)\n",
       "    (20): Conv2d(256, 256, kernel_size=(3, 3), stride=(1, 1), padding=(1, 1))\n",
       "    (21): BatchNorm2d(256, eps=1e-05, momentum=0.1, affine=True, track_running_stats=True)\n",
       "    (22): ReLU(inplace=True)\n",
       "    (23): Conv2d(256, 256, kernel_size=(3, 3), stride=(1, 1), padding=(1, 1))\n",
       "    (24): BatchNorm2d(256, eps=1e-05, momentum=0.1, affine=True, track_running_stats=True)\n",
       "    (25): ReLU(inplace=True)\n",
       "    (26): MaxPool2d(kernel_size=2, stride=2, padding=0, dilation=1, ceil_mode=False)\n",
       "    (27): Conv2d(256, 512, kernel_size=(3, 3), stride=(1, 1), padding=(1, 1))\n",
       "    (28): BatchNorm2d(512, eps=1e-05, momentum=0.1, affine=True, track_running_stats=True)\n",
       "    (29): ReLU(inplace=True)\n",
       "    (30): Conv2d(512, 512, kernel_size=(3, 3), stride=(1, 1), padding=(1, 1))\n",
       "    (31): BatchNorm2d(512, eps=1e-05, momentum=0.1, affine=True, track_running_stats=True)\n",
       "    (32): ReLU(inplace=True)\n",
       "    (33): Conv2d(512, 512, kernel_size=(3, 3), stride=(1, 1), padding=(1, 1))\n",
       "    (34): BatchNorm2d(512, eps=1e-05, momentum=0.1, affine=True, track_running_stats=True)\n",
       "    (35): ReLU(inplace=True)\n",
       "    (36): Conv2d(512, 512, kernel_size=(3, 3), stride=(1, 1), padding=(1, 1))\n",
       "    (37): BatchNorm2d(512, eps=1e-05, momentum=0.1, affine=True, track_running_stats=True)\n",
       "    (38): ReLU(inplace=True)\n",
       "    (39): MaxPool2d(kernel_size=2, stride=2, padding=0, dilation=1, ceil_mode=False)\n",
       "    (40): Conv2d(512, 512, kernel_size=(3, 3), stride=(1, 1), padding=(1, 1))\n",
       "    (41): BatchNorm2d(512, eps=1e-05, momentum=0.1, affine=True, track_running_stats=True)\n",
       "    (42): ReLU(inplace=True)\n",
       "    (43): Conv2d(512, 512, kernel_size=(3, 3), stride=(1, 1), padding=(1, 1))\n",
       "    (44): BatchNorm2d(512, eps=1e-05, momentum=0.1, affine=True, track_running_stats=True)\n",
       "    (45): ReLU(inplace=True)\n",
       "    (46): Conv2d(512, 512, kernel_size=(3, 3), stride=(1, 1), padding=(1, 1))\n",
       "    (47): BatchNorm2d(512, eps=1e-05, momentum=0.1, affine=True, track_running_stats=True)\n",
       "    (48): ReLU(inplace=True)\n",
       "    (49): Conv2d(512, 512, kernel_size=(3, 3), stride=(1, 1), padding=(1, 1))\n",
       "    (50): BatchNorm2d(512, eps=1e-05, momentum=0.1, affine=True, track_running_stats=True)\n",
       "    (51): ReLU(inplace=True)\n",
       "    (52): MaxPool2d(kernel_size=2, stride=2, padding=0, dilation=1, ceil_mode=False)\n",
       "  )\n",
       "  (avgpool): AdaptiveAvgPool2d(output_size=(7, 7))\n",
       "  (classifier): Sequential(\n",
       "    (0): Linear(in_features=25088, out_features=4096, bias=True)\n",
       "    (1): ReLU(inplace=True)\n",
       "    (2): Dropout(p=0.5, inplace=False)\n",
       "    (3): Linear(in_features=4096, out_features=4096, bias=True)\n",
       "    (4): ReLU(inplace=True)\n",
       "    (5): Dropout(p=0.5, inplace=False)\n",
       "    (6): Linear(in_features=4096, out_features=1000, bias=True)\n",
       "  )\n",
       ")"
      ]
     },
     "execution_count": 16,
     "metadata": {},
     "output_type": "execute_result"
    }
   ],
   "source": [
    "model"
   ]
  },
  {
   "cell_type": "markdown",
   "metadata": {
    "id": "yfQWvFpWJyIU"
   },
   "source": [
    "<center><img src =\"http://edunet.kea.su/repo/src/L09_CNN_Architectures/img_license/l09_6.png\"  width=\"400\" rotate=\"180\"></center>\n",
    "<center><em>Сравнение архитектур сетей AlexNet, VGG16 (использует 16 слоев) и VGG19 (использует 19 слоев).</em></center>"
   ]
  },
  {
   "cell_type": "markdown",
   "metadata": {
    "id": "HkNUmdVFChy0"
   },
   "source": [
    "На выходе у модели 1000 классов, а у нас 19. Мы уже знаем, как это изменить. Просто поменяем аттрибут `model.classifier` на линейный слой с нужным числов выходов (можно на несколько линейных слоев, помещенных в `nn.Sequential`).\n",
    "\n",
    "Но возникает проблема поинтереснее: на входе модель ожидает картинку с 3 каналами, а у нас 1. Один из вариантов (он не самый хороший) это просто поменять первый сверточный слой в модели и обучать ее целиком (**подумайте**, почему мы не можем заморозить все слои кроме новых и обучать так модель?)."
   ]
  },
  {
   "cell_type": "code",
   "execution_count": 17,
   "metadata": {
    "id": "Iqz88BnmGm2A"
   },
   "outputs": [],
   "source": [
    "num_features = 25088\n",
    "model.classifier = nn.Linear(num_features, N_CLASSES)\n",
    "model = model.to(DEVICE)"
   ]
  },
  {
   "cell_type": "code",
   "execution_count": 18,
   "metadata": {
    "id": "VES3WfQKH896"
   },
   "outputs": [],
   "source": [
    "# Была мысль сделать скорость обучения побольше. Ну потому что не может модель учиться медленнее меня, какой в ней тогда смысл.\n",
    "criterion = nn.CrossEntropyLoss()\n",
    "optimizer = torch.optim.Adam(model.parameters(), lr=3e-4)\n",
    "scheduler = torch.optim.lr_scheduler.ReduceLROnPlateau(optimizer=optimizer, patience=3, factor=0.5)"
   ]
  },
  {
   "cell_type": "code",
   "execution_count": 19,
   "metadata": {
    "colab": {
     "base_uri": "https://localhost:8080/"
    },
    "id": "ersprvTJIAXq",
    "outputId": "9bf3c2cc-abcc-4e01-db39-58dea071aed2"
   },
   "outputs": [
    {
     "name": "stdout",
     "output_type": "stream",
     "text": [
      "Training: batch 76 out of 76\n",
      "Validation: batch 26 out of 26\n",
      "\n",
      "Epoch 1 out of 10: Train loss = 1.1954157250492197, validation loss = 0.5608964793276615 \n",
      "                                         Train metric = 0.5897119341563786, validation metric = 0.2\n",
      "\n",
      "Training: batch 76 out of 76\n",
      "Validation: batch 26 out of 26\n",
      "\n",
      "Epoch 2 out of 10: Train loss = 0.4968737452045867, validation loss = 0.6462800293789209 \n",
      "                                         Train metric = 0.7078189300411523, validation metric = 0.17901234567901234\n",
      "\n",
      "Training: batch 76 out of 76\n",
      "Validation: batch 26 out of 26\n",
      "\n",
      "Epoch 3 out of 10: Train loss = 0.40923851150039, validation loss = 0.49684865717203 \n",
      "                                         Train metric = 0.7271604938271605, validation metric = 0.2419753086419753\n",
      "\n",
      "Training: batch 76 out of 76\n",
      "Validation: batch 26 out of 26\n",
      "\n",
      "Epoch 4 out of 10: Train loss = 0.34188879607245326, validation loss = 0.7054609288103305 \n",
      "                                         Train metric = 0.7320987654320987, validation metric = 0.18024691358024691\n",
      "\n",
      "Training: batch 76 out of 76\n",
      "Validation: batch 26 out of 26\n",
      "\n",
      "Epoch 5 out of 10: Train loss = 0.346754884567896, validation loss = 0.44552176945412963 \n",
      "                                         Train metric = 0.7205761316872428, validation metric = 0.1728395061728395\n",
      "\n",
      "Training: batch 76 out of 76\n",
      "Validation: batch 26 out of 26\n",
      "\n",
      "Epoch 6 out of 10: Train loss = 0.2341247475460956, validation loss = 0.32146617857058746 \n",
      "                                         Train metric = 0.7271604938271605, validation metric = 0.17037037037037037\n",
      "\n",
      "Training: batch 76 out of 76\n",
      "Validation: batch 26 out of 26\n",
      "\n",
      "Epoch 7 out of 10: Train loss = 0.23779243294541774, validation loss = 0.49377592017348293 \n",
      "                                         Train metric = 0.7246913580246913, validation metric = 0.1654320987654321\n",
      "\n",
      "Training: batch 76 out of 76\n",
      "Validation: batch 26 out of 26\n",
      "\n",
      "Epoch 8 out of 10: Train loss = 0.1741018744283601, validation loss = 0.48009173549200146 \n",
      "                                         Train metric = 0.7345679012345679, validation metric = 0.18641975308641975\n",
      "\n",
      "Training: batch 76 out of 76\n",
      "Validation: batch 26 out of 26\n",
      "\n",
      "Epoch 9 out of 10: Train loss = 0.17106897018751815, validation loss = 0.46635311296603715 \n",
      "                                         Train metric = 0.7242798353909465, validation metric = 0.15679012345679014\n",
      "\n",
      "Training: batch 76 out of 76\n",
      "Validation: batch 26 out of 26\n",
      "\n",
      "Epoch 10 out of 10: Train loss = 0.2337761704172743, validation loss = 0.4950804261920544 \n",
      "                                         Train metric = 0.7152263374485597, validation metric = 0.1654320987654321\n",
      "\n"
     ]
    },
    {
     "data": {
      "text/plain": [
       "<__main__.Trainer at 0x7fd3bc5b7ee0>"
      ]
     },
     "execution_count": 19,
     "metadata": {},
     "output_type": "execute_result"
    }
   ],
   "source": [
    "trainer = Trainer(model, 10, criterion, optimizer, trainloader, valloader, DEVICE, accuracy_score)\n",
    "trainer.fit()"
   ]
  },
  {
   "cell_type": "markdown",
   "metadata": {
    "id": "9Jo-EfIIrpt8"
   },
   "source": [
    "Нематоды обучились за полчаса. 20 семейств птичек (а всего их то ли 1100, то ли 500 с копейками) за 50 минут"
   ]
  },
  {
   "cell_type": "code",
   "execution_count": 20,
   "metadata": {
    "colab": {
     "base_uri": "https://localhost:8080/",
     "height": 430
    },
    "id": "689itHECnCAS",
    "outputId": "f91ff79a-a26e-4fbd-95b6-ef05d8127b6f"
   },
   "outputs": [
    {
     "data": {
      "image/png": "[encoded data removed]",
      "text/plain": [
       "<Figure size 640x480 with 1 Axes>"
      ]
     },
     "metadata": {},
     "output_type": "display_data"
    }
   ],
   "source": [
    "sns.lineplot(y=trainer.train_losses, x=range(1, 11), label=\"Train\")\n",
    "sns.lineplot(y=trainer.valid_losses, x=range(1, 11), label=\"Validation\")\n",
    "\n",
    "plt.show()"
   ]
  },
  {
   "cell_type": "code",
   "execution_count": 21,
   "metadata": {
    "colab": {
     "base_uri": "https://localhost:8080/"
    },
    "id": "uip73691T_tx",
    "outputId": "db277a02-0e85-4118-8b12-c6ab48a69d1c"
   },
   "outputs": [
    {
     "data": {
      "text/plain": [
       "0.891358024691358"
      ]
     },
     "execution_count": 21,
     "metadata": {},
     "output_type": "execute_result"
    }
   ],
   "source": [
    "print(calculate_metric(model, valloader))"
   ]
  },
  {
   "cell_type": "code",
   "execution_count": 22,
   "metadata": {
    "id": "KUxQrx6QWfOp"
   },
   "outputs": [],
   "source": [
    "from functools import partial\n",
    "\n",
    "f1_macro = partial(f1_score, average=\"macro\")\n",
    "f1_micro = partial(f1_score, average=\"micro\")"
   ]
  },
  {
   "cell_type": "code",
   "execution_count": 23,
   "metadata": {
    "colab": {
     "base_uri": "https://localhost:8080/"
    },
    "id": "Ue_yGNuwTkQ9",
    "outputId": "45c2ddcb-9f8f-41c2-c244-aa01213f095a"
   },
   "outputs": [
    {
     "data": {
      "text/plain": [
       "0.8959382913031483"
      ]
     },
     "execution_count": 23,
     "metadata": {},
     "output_type": "execute_result"
    }
   ],
   "source": [
    "print(calculate_metric(model, valloader, f1_macro))"
   ]
  },
  {
   "cell_type": "code",
   "execution_count": 24,
   "metadata": {
    "colab": {
     "base_uri": "https://localhost:8080/"
    },
    "id": "YCjUSnQlWruf",
    "outputId": "ecdaca0e-c0ac-4902-e196-2fcdc05536fa"
   },
   "outputs": [
    {
     "data": {
      "text/plain": [
       "0.891358024691358"
      ]
     },
     "execution_count": 24,
     "metadata": {},
     "output_type": "execute_result"
    }
   ],
   "source": [
    "print(calculate_metric(model, valloader, f1_micro))"
   ]
  },
  {
   "cell_type": "code",
   "execution_count": null,
   "metadata": {},
   "outputs": [],
   "source": []
  },
  {
   "cell_type": "code",
   "execution_count": null,
   "metadata": {},
   "outputs": [],
   "source": []
  },
  {
   "cell_type": "markdown",
   "metadata": {},
   "source": [
    "Смотрим на предсказания"
   ]
  },
  {
   "cell_type": "code",
   "execution_count": null,
   "metadata": {
    "id": "LEVHEqWR9kVi"
   },
   "outputs": [],
   "source": [
    "def predict_one_sample(model, inputs, device=DEVICE):\n",
    "    \"\"\"Предсказание, для одной картинки\"\"\"\n",
    "    with torch.no_grad():\n",
    "        inputs = inputs.to(device)\n",
    "        model.eval()\n",
    "        logit = model(inputs).cpu()\n",
    "        probs = torch.nn.functional.softmax(logit, dim=-1).numpy()\n",
    "\n",
    "    return probs\n",
    "\n",
    "\n",
    "def imshow(inp, title=None, plt_ax=plt, default=False):\n",
    "    \"\"\"Imshow для тензоров\"\"\"\n",
    "    inp = np.clip(inp, 0, 1)\n",
    "    plt_ax.imshow(inp.reshape(*RESCALE_SIZE), cmap=\"gray\")\n",
    "    if title is not None:\n",
    "        plt_ax.set_title(title)\n",
    "    plt_ax.grid(False)\n",
    "\n",
    "\n",
    "def get_predicts(model, test_loader):\n",
    "    with torch.no_grad():\n",
    "        logits = []\n",
    "        for inputs in test_loader:\n",
    "            inputs = inputs.to(DEVICE)\n",
    "            model.eval()\n",
    "            outputs = model(inputs).cpu()\n",
    "            logits.append(outputs)\n",
    "    probs = nn.functional.softmax(torch.cat(logits), dim=-1).numpy()\n",
    "\n",
    "    return probs"
   ]
  },
  {
   "cell_type": "code",
   "execution_count": null,
   "metadata": {},
   "outputs": [],
   "source": [
    "label_encoder = trainset.label_encoder"
   ]
  },
  {
   "cell_type": "code",
   "execution_count": null,
   "metadata": {},
   "outputs": [],
   "source": [
    "import matplotlib.patches as patches\n",
    "from matplotlib.font_manager import FontProperties\n",
    "\n",
    "fig, ax = plt.subplots(nrows=3, ncols=3,figsize=(16, 16), \\\n",
    "                        sharey=True, sharex=True)\n",
    "for fig_x in ax.flatten():\n",
    "    random_characters = int(np.random.uniform(0, 500))\n",
    "    im_val, label = valset[random_characters]\n",
    "    img_label = \" \".join(map(lambda x: x.capitalize(),\\\n",
    "                valset.label_encoder.inverse_transform([label])[0].split(\"_\")))\n",
    "    \n",
    "    \n",
    "\n",
    "    imshow(im_val.data.cpu(), \\\n",
    "          title=img_label, plt_ax=fig_x)\n",
    "    \n",
    "    actual_text = \"Actual : {}\".format(img_label)\n",
    "            \n",
    "    fig_x.add_patch(patches.Rectangle((0, 53), 86, 35, color=\"white\"))\n",
    "    font0 = FontProperties()\n",
    "    font = font0.copy()\n",
    "    font.set_family(\"fantasy\")\n",
    "    prob_pred = predict_one_sample(model, im_val.unsqueeze(0))\n",
    "    predicted_proba = np.max(prob_pred)\n",
    "    y_pred = np.argmax(prob_pred)\n",
    "    \n",
    "    predicted_label = label_encoder.classes_[y_pred]\n",
    "    predicted_label = predicted_label[:len(predicted_label)//2] + \"\\n\" + predicted_label[len(predicted_label)//2:]\n",
    "    predicted_text = \"{} : {:.2f}\".format(predicted_label, predicted_proba)\n",
    "            \n",
    "    fig_x.text(1, 59, predicted_text , horizontalalignment=\"left\", fontproperties=font,\n",
    "                    verticalalignment=\"top\", fontsize=14, color=\"black\", fontweight=\"bold\")"
   ]
  },
  {
   "cell_type": "code",
   "execution_count": null,
   "metadata": {},
   "outputs": [],
   "source": [
    "val_images = [valset[id][0].unsqueeze(0) for id in range(len(valset))]\n",
    "val_predictions = get_predicts(model, val_images)\n",
    "\n",
    "y_pred_val = np.argmax(val_predictions, -1)\n",
    "actual_labels = [valset[id][1] for id in range(len(valset))]\n",
    "preds_class = [label_encoder.classes_[i] for i in y_pred_val]\n",
    "\n",
    "val_mertics_report = pd.DataFrame(classification_report(actual_labels, y_pred_val, output_dict=True)).T\n",
    "val_mertics_report.index = list(label_encoder.inverse_transform(np.arange(19))) + [\"accuracy\", \"macro avg\", \"weighted avg\"]"
   ]
  },
  {
   "cell_type": "code",
   "execution_count": null,
   "metadata": {},
   "outputs": [],
   "source": [
    "val_mertics_report"
   ]
  }
 ],
 "metadata": {
  "accelerator": "GPU",
  "colab": {
   "include_colab_link": true,
   "provenance": []
  },
  "kernelspec": {
   "display_name": "Python 3 (ipykernel)",
   "language": "python",
   "name": "python3"
  },
  "language_info": {
   "codemirror_mode": {
    "name": "ipython",
    "version": 3
   },
   "file_extension": ".py",
   "mimetype": "text/x-python",
   "name": "python",
   "nbconvert_exporter": "python",
   "pygments_lexer": "ipython3",
   "version": "3.9.13"
  }
 },
 "nbformat": 4,
 "nbformat_minor": 1
}
