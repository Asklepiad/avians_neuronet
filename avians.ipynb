{
  "nbformat": 4,
  "nbformat_minor": 0,
  "metadata": {
    "colab": {
      "provenance": [],
      "include_colab_link": true
    },
    "kernelspec": {
      "name": "python3",
      "display_name": "Python 3"
    },
    "language_info": {
      "name": "python"
    },
    "accelerator": "GPU"
  },
  "cells": [
    {
      "cell_type": "markdown",
      "metadata": {
        "id": "view-in-github",
        "colab_type": "text"
      },
      "source": [
        "<a href=\"https://colab.research.google.com/github/Asklepiad/avians_neuronet/blob/main/avians.ipynb\" target=\"_parent\"><img src=\"https://colab.research.google.com/assets/colab-badge.svg\" alt=\"Open In Colab\"/></a>"
      ]
    },
    {
      "cell_type": "code",
      "source": [
        "!pip install loguru"
      ],
      "metadata": {
        "colab": {
          "base_uri": "https://localhost:8080/"
        },
        "id": "NhJ26OXjOWju",
        "outputId": "9df10642-9df3-49e7-a304-76edab043b80"
      },
      "execution_count": 1,
      "outputs": [
        {
          "output_type": "stream",
          "name": "stdout",
          "text": [
            "Looking in indexes: https://pypi.org/simple, https://us-python.pkg.dev/colab-wheels/public/simple/\n",
            "Collecting loguru\n",
            "  Downloading loguru-0.7.0-py3-none-any.whl (59 kB)\n",
            "\u001b[2K     \u001b[90m━━━━━━━━━━━━━━━━━━━━━━━━━━━━━━━━━━━━━━━━\u001b[0m \u001b[32m60.0/60.0 kB\u001b[0m \u001b[31m1.4 MB/s\u001b[0m eta \u001b[36m0:00:00\u001b[0m\n",
            "\u001b[?25hInstalling collected packages: loguru\n",
            "Successfully installed loguru-0.7.0\n"
          ]
        }
      ]
    },
    {
      "cell_type": "code",
      "execution_count": 2,
      "metadata": {
        "id": "OT7t0NtL20hN"
      },
      "outputs": [],
      "source": [
        "import pickle\n",
        "import torch\n",
        "import numpy as np\n",
        "import torchvision\n",
        "import matplotlib.pyplot as plt\n",
        "import os\n",
        "import seaborn as sns\n",
        "\n",
        "from os.path import join\n",
        "from loguru import logger\n",
        "from torch.utils.data import Dataset, DataLoader\n",
        "from pathlib import Path\n",
        "from sklearn.preprocessing import LabelEncoder\n",
        "from PIL import Image\n",
        "from torchvision import transforms\n",
        "from tqdm import tqdm\n",
        "from sklearn.model_selection import train_test_split\n",
        "from torch import nn\n",
        "from IPython.display import clear_output\n",
        "from sklearn.metrics import accuracy_score, f1_score\n",
        "\n",
        "from sklearn.metrics import classification_report\n",
        "import pandas as pd"
      ]
    },
    {
      "cell_type": "code",
      "source": [
        "from google.colab import files\n",
        "from google.colab import drive\n",
        "drive.mount('/content/gdrive')"
      ],
      "metadata": {
        "colab": {
          "base_uri": "https://localhost:8080/"
        },
        "id": "KZNhuEBsOAfD",
        "outputId": "53252771-de90-41ce-c92e-1738ddd02535"
      },
      "execution_count": 3,
      "outputs": [
        {
          "output_type": "stream",
          "name": "stdout",
          "text": [
            "Mounted at /content/gdrive\n"
          ]
        }
      ]
    },
    {
      "cell_type": "code",
      "source": [
        "DATA_PATH = \"/content/gdrive/MyDrive/avians/train\"\n",
        "RESCALE_SIZE = 224, 224\n",
        "DEVICE = \"cuda\" if torch.cuda.is_available() else \"cpu\"\n",
        "BATCH_SIZE = 32\n",
        "\n",
        "print(f\"Using device: {DEVICE}\")"
      ],
      "metadata": {
        "colab": {
          "base_uri": "https://localhost:8080/"
        },
        "id": "XCZuMHUW2899",
        "outputId": "30dd44bc-4348-4184-a250-933162712f78"
      },
      "execution_count": 6,
      "outputs": [
        {
          "output_type": "stream",
          "name": "stdout",
          "text": [
            "Using device: cuda\n"
          ]
        }
      ]
    },
    {
      "cell_type": "markdown",
      "source": [
        "## Напишем класс `NematodDataset`"
      ],
      "metadata": {
        "id": "uppmmOX4AmC4"
      }
    },
    {
      "cell_type": "markdown",
      "source": [
        "Рассказывали ли про `pathlib`?"
      ],
      "metadata": {
        "id": "1dPixLnYAvva"
      }
    },
    {
      "cell_type": "code",
      "source": [
        "class AviansDataset(Dataset):\n",
        "    def __init__(self, files, mode=\"train\") -> None:\n",
        "        super().__init__()\n",
        "\n",
        "        self.files = sorted(list(files))\n",
        "        self.len_ = len(self.files)\n",
        "        self.label_encoder = LabelEncoder()\n",
        "        self.mode = mode\n",
        "\n",
        "        self.labels = [path.parent.name for path in self.files]\n",
        "        self.label_encoder.fit(self.labels)\n",
        "\n",
        "        if self.mode == \"train\":\n",
        "            with open(\"label_encoder.pkl\", \"wb\") as le_dump_file:\n",
        "                    pickle.dump(self.label_encoder, le_dump_file)\n",
        "\n",
        "    def __len__(self):\n",
        "        return self.len_\n",
        "\n",
        "    def load_sample(self, file):\n",
        "        image = Image.open(file)\n",
        "        image.load()\n",
        "        return image\n",
        "\n",
        "    def __getitem__(self, index):\n",
        "        if self.mode == \"train\":\n",
        "            transform = transforms.Compose([\n",
        "                        transforms.Resize(size=RESCALE_SIZE),\n",
        "                        transforms.RandomRotation(degrees=180),\n",
        "                        # ADDITIONAL AUGMENTATIONS\n",
        "                        transforms.ToTensor(),\n",
        "                        #transforms.Normalize([0.572], [0.048])\n",
        "            ])\n",
        "        \n",
        "        else:\n",
        "            transform = transforms.Compose([\n",
        "                        transforms.Resize(size=RESCALE_SIZE),\n",
        "                        transforms.ToTensor(),\n",
        "                        #transforms.Normalize([0.572], [0.048])\n",
        "            ])\n",
        "\n",
        "        x = self.load_sample(self.files[index])\n",
        "        x = transform(x)\n",
        "        label = self.labels[index]\n",
        "        label_id = self.label_encoder.transform([label])\n",
        "        y = label_id.item()\n",
        "\n",
        "        return x, y"
      ],
      "metadata": {
        "id": "r4P63j-Z29A1"
      },
      "execution_count": 7,
      "outputs": []
    },
    {
      "cell_type": "markdown",
      "source": [
        "Оказывается, что не все изображения имеют 1 канал..."
      ],
      "metadata": {
        "id": "TJg512gJBBtO"
      }
    },
    {
      "cell_type": "markdown",
      "source": [
        "Исправить это можно двумя пуятми: просто убрать эти картинки или усреднять по первым трем каналам изображение, делая из него одноканальное. Реализуем второй вариант в `__getitem__`"
      ],
      "metadata": {
        "id": "rwD8O7FOBG9i"
      }
    },
    {
      "cell_type": "markdown",
      "source": [
        "## Класс для тренировки и валидации модели"
      ],
      "metadata": {
        "id": "-FrFxK6iBVz5"
      }
    },
    {
      "cell_type": "code",
      "source": [
        "class Trainer:\n",
        "    def __init__(self, model, epochs, criterion,\n",
        "                 optimizer, trainloader,\n",
        "                 validloader, device, metric,\n",
        "                 validate=True, scheduler=None,\n",
        "                 verbose=2):\n",
        "        self.model = model.to(device)\n",
        "        self.epochs = epochs\n",
        "        self.criterion = criterion\n",
        "        self.optimizer = optimizer\n",
        "        self.trainloader = trainloader\n",
        "        self.validloader = validloader\n",
        "        self.device = device\n",
        "        self.metric = metric\n",
        "        self.validate = validate\n",
        "        self.verbose = verbose\n",
        "        self.scheduler = scheduler\n",
        "        self.get_probs = nn.Softmax(dim=0)\n",
        "        self.train_losses = []\n",
        "        self.valid_losses = []\n",
        "        self.train_metrics = []\n",
        "        self.valid_metrics = []\n",
        "\n",
        "    def fit(self, epochs=None):\n",
        "        if epochs is None:\n",
        "            epochs = self.epochs\n",
        "\n",
        "        for epoch in range(epochs):\n",
        "            train_loss, train_metric = self._train(self.trainloader)\n",
        "            self.train_losses.append(train_loss)\n",
        "            self.train_metrics.append(train_metric)\n",
        "\n",
        "            if self.validate:\n",
        "                val_loss, val_metric = self._validate(self.validloader)\n",
        "                self.valid_losses.append(val_loss)\n",
        "                self.valid_metrics.append(val_metric)\n",
        "\n",
        "                if self.scheduler is not None:\n",
        "                    self.scheduler.step(val_loss)\n",
        "            else:\n",
        "                val_loss = \"NO\"\n",
        "\n",
        "            if self.verbose > 0:\n",
        "                print()\n",
        "                print(f\"Epoch {epoch+1} out of {epochs}: Train loss = {train_loss}, validation loss = {val_loss} \\n\\\n",
        "                                         Train metric = {train_metric}, validation metric = {val_metric}\")\n",
        "                print()\n",
        "        \n",
        "        return self\n",
        "\n",
        "    def _train(self, loader):\n",
        "        self.model.train()\n",
        "        epoch_loss = 0\n",
        "        epoch_preds = []\n",
        "        epoch_targets = []\n",
        "        for i, (inputs, targets) in enumerate(loader):\n",
        "            inputs, targets = inputs.to(self.device), targets.to(self.device)\n",
        "            out = self.model(inputs)\n",
        "            loss = self.criterion(out, targets)\n",
        "            epoch_loss += loss.item()\n",
        "            self.optimizer.zero_grad()\n",
        "            loss.backward()\n",
        "\n",
        "            if self.verbose > 1:\n",
        "                print(f\"\\rTraining: batch {i+1} out of {len(loader)}\", end=\"\")\n",
        "\n",
        "            self.optimizer.step()\n",
        "\n",
        "            out = self.get_probs(out)\n",
        "            _, preds = torch.max(out.data, 1)\n",
        "            epoch_preds += list(preds.cpu())\n",
        "            epoch_targets += list(targets.detach().cpu())\n",
        "\n",
        "            self._clear_vram(inputs, targets, out)\n",
        "\n",
        "        epoch_loss = epoch_loss/len(loader)\n",
        "        epoch_metric = self.metric(epoch_targets, epoch_preds)\n",
        "        print(\"\\n\", end=\"\")\n",
        "\n",
        "        return epoch_loss, epoch_metric\n",
        "\n",
        "    def _validate(self, loader):\n",
        "        self.model.eval()\n",
        "        epoch_loss = 0\n",
        "        epoch_preds = []\n",
        "        epoch_targets = []\n",
        "        with torch.no_grad():\n",
        "            for i, (inputs, targets) in enumerate(loader):\n",
        "                inputs, targets = inputs.to(self.device), targets.to(self.device)              \n",
        "                out = self.model(inputs)\n",
        "                loss = self.criterion(out, targets)\n",
        "\n",
        "                if self.verbose > 1:\n",
        "                    print(f\"\\rValidation: batch {i+1} out of {len(loader)}\", end=\"\")\n",
        "\n",
        "                epoch_loss += loss.item()\n",
        "                out = self.get_probs(out)\n",
        "                _, preds = torch.max(out.data, 1)\n",
        "                epoch_preds += list(preds.cpu())\n",
        "                epoch_targets += list(targets.detach().cpu())\n",
        "\n",
        "                self._clear_vram(inputs, targets, out)\n",
        "\n",
        "        epoch_loss = epoch_loss/len(loader)\n",
        "        epoch_metric = self.metric(epoch_targets, epoch_preds)\n",
        "        print(\"\\n\", end=\"\")\n",
        "\n",
        "        return epoch_loss, epoch_metric\n",
        "    \n",
        "    def _clear_vram(self, inputs, labels, outputs):\n",
        "        inputs = inputs.to(\"cpu\")\n",
        "        labels = labels.to(\"cpu\")\n",
        "        outputs = outputs.to(\"cpu\")\n",
        "        del inputs, labels, outputs\n",
        "        torch.cuda.empty_cache()"
      ],
      "metadata": {
        "id": "RrWHrKVJuSZ0"
      },
      "execution_count": 9,
      "outputs": []
    },
    {
      "cell_type": "code",
      "source": [
        "def predict(model, loader):\n",
        "    model.eval()\n",
        "    predictions = []\n",
        "    targ = []\n",
        "    with torch.no_grad():\n",
        "        for i, (inputs, targets) in enumerate(loader):\n",
        "            inputs, targets = inputs.to(DEVICE), targets.to(DEVICE)              \n",
        "            out = model(inputs)\n",
        "            out = nn.functional.softmax(out, dim=-1)\n",
        "            _, preds = torch.max(out.data, 1)\n",
        "            predictions += list(preds)\n",
        "            targ += list(targets)\n",
        "    \n",
        "    return predictions, targ\n",
        "\n",
        "def calculate_metric(model, loader, metric=None):\n",
        "    if metric is None:\n",
        "        metric = accuracy_score\n",
        "    \n",
        "    preds, targets = predict(model, loader)\n",
        "    preds = [i.item() for i in preds]\n",
        "    targets = [i.item() for i in targets]\n",
        "\n",
        "    return metric(targets, preds)"
      ],
      "metadata": {
        "id": "gN0F3lzjXHBY"
      },
      "execution_count": 10,
      "outputs": []
    },
    {
      "cell_type": "markdown",
      "source": [
        "Эта часть кода нужна лишь для того, чтобы из tiff сделать jpeg. Иначе в процессе получения батчей иногда возникали странные ошибки."
      ],
      "metadata": {
        "id": "AG9YHjeOBirG"
      }
    },
    {
      "cell_type": "markdown",
      "source": [
        "Получем список всех файлов. Создаем для каждого метку класса и делим на тренировку и валидацию."
      ],
      "metadata": {
        "id": "q3wBR5SQBtvc"
      }
    },
    {
      "cell_type": "code",
      "source": [
        "# Мы пойдем своим путем: сначала сделаем кроссвалидацию на трэйне, потом будем сверяться с валом, а тест используем единственный раз -- в конце\n",
        "train_val_files = sorted(list(Path(DATA_PATH).rglob(\"*.jpg\")))\n",
        "train_val_labels = [path.parent.name for path in train_val_files]\n",
        "train_files, val_files = train_test_split(train_val_files, test_size=0.25, \\\n",
        "                                          stratify=train_val_labels)\n",
        "N_CLASSES = len(set(train_val_labels))\n",
        "N_CLASSES"
      ],
      "metadata": {
        "id": "QmsOmhtyqMwy",
        "colab": {
          "base_uri": "https://localhost:8080/"
        },
        "outputId": "9ce618f0-57a7-4db0-a956-fd7116508482"
      },
      "execution_count": 11,
      "outputs": [
        {
          "output_type": "execute_result",
          "data": {
            "text/plain": [
              "20"
            ]
          },
          "metadata": {},
          "execution_count": 11
        }
      ]
    },
    {
      "cell_type": "code",
      "source": [
        "train_val_files[0].parent.name"
      ],
      "metadata": {
        "colab": {
          "base_uri": "https://localhost:8080/",
          "height": 35
        },
        "id": "qEBTug0hhwFH",
        "outputId": "61b2d3e3-8523-465c-88f3-1fccc3255baa"
      },
      "execution_count": 12,
      "outputs": [
        {
          "output_type": "execute_result",
          "data": {
            "text/plain": [
              "'ABBOTTS BABBLER'"
            ],
            "application/vnd.google.colaboratory.intrinsic+json": {
              "type": "string"
            }
          },
          "metadata": {},
          "execution_count": 12
        }
      ]
    },
    {
      "cell_type": "markdown",
      "source": [
        "Важно посмотреть на распределение классов. Если оно у нас будет несбалансированным, то может быть, хорошей идеей поработать с этим (например, тот же upsampling редко представленных классов):"
      ],
      "metadata": {
        "id": "9YphvKSUEa_5"
      }
    },
    {
      "cell_type": "code",
      "source": [
        "# Код с дисбалансом поломатый. Будем чинить\n",
        "plt.figure(figsize=(12, 9))\n",
        "sns.countplot(train_val_labels)\n",
        "plt.xticks(rotation=45, fontsize=16);"
      ],
      "metadata": {
        "colab": {
          "base_uri": "https://localhost:8080/",
          "height": 365
        },
        "id": "gH1zm48oEamK",
        "outputId": "66028965-bb13-49bd-ee83-6672d3ad0a73"
      },
      "execution_count": 13,
      "outputs": [
        {
          "output_type": "error",
          "ename": "ValueError",
          "evalue": "ignored",
          "traceback": [
            "\u001b[0;31m---------------------------------------------------------------------------\u001b[0m",
            "\u001b[0;31mValueError\u001b[0m                                Traceback (most recent call last)",
            "\u001b[0;32m<ipython-input-13-7ad94e4f8751>\u001b[0m in \u001b[0;36m<cell line: 2>\u001b[0;34m()\u001b[0m\n\u001b[1;32m      1\u001b[0m \u001b[0mplt\u001b[0m\u001b[0;34m.\u001b[0m\u001b[0mfigure\u001b[0m\u001b[0;34m(\u001b[0m\u001b[0mfigsize\u001b[0m\u001b[0;34m=\u001b[0m\u001b[0;34m(\u001b[0m\u001b[0;36m12\u001b[0m\u001b[0;34m,\u001b[0m \u001b[0;36m9\u001b[0m\u001b[0;34m)\u001b[0m\u001b[0;34m)\u001b[0m\u001b[0;34m\u001b[0m\u001b[0;34m\u001b[0m\u001b[0m\n\u001b[0;32m----> 2\u001b[0;31m \u001b[0msns\u001b[0m\u001b[0;34m.\u001b[0m\u001b[0mcountplot\u001b[0m\u001b[0;34m(\u001b[0m\u001b[0mtrain_val_labels\u001b[0m\u001b[0;34m)\u001b[0m\u001b[0;34m\u001b[0m\u001b[0;34m\u001b[0m\u001b[0m\n\u001b[0m\u001b[1;32m      3\u001b[0m \u001b[0mplt\u001b[0m\u001b[0;34m.\u001b[0m\u001b[0mxticks\u001b[0m\u001b[0;34m(\u001b[0m\u001b[0mrotation\u001b[0m\u001b[0;34m=\u001b[0m\u001b[0;36m45\u001b[0m\u001b[0;34m,\u001b[0m \u001b[0mfontsize\u001b[0m\u001b[0;34m=\u001b[0m\u001b[0;36m16\u001b[0m\u001b[0;34m)\u001b[0m\u001b[0;34m;\u001b[0m\u001b[0;34m\u001b[0m\u001b[0;34m\u001b[0m\u001b[0m\n",
            "\u001b[0;32m/usr/local/lib/python3.10/dist-packages/seaborn/categorical.py\u001b[0m in \u001b[0;36mcountplot\u001b[0;34m(data, x, y, hue, order, hue_order, orient, color, palette, saturation, width, dodge, ax, **kwargs)\u001b[0m\n\u001b[1;32m   2941\u001b[0m         \u001b[0;32mraise\u001b[0m \u001b[0mValueError\u001b[0m\u001b[0;34m(\u001b[0m\u001b[0;34m\"Cannot pass values for both `x` and `y`\"\u001b[0m\u001b[0;34m)\u001b[0m\u001b[0;34m\u001b[0m\u001b[0;34m\u001b[0m\u001b[0m\n\u001b[1;32m   2942\u001b[0m \u001b[0;34m\u001b[0m\u001b[0m\n\u001b[0;32m-> 2943\u001b[0;31m     plotter = _CountPlotter(\n\u001b[0m\u001b[1;32m   2944\u001b[0m         \u001b[0mx\u001b[0m\u001b[0;34m,\u001b[0m \u001b[0my\u001b[0m\u001b[0;34m,\u001b[0m \u001b[0mhue\u001b[0m\u001b[0;34m,\u001b[0m \u001b[0mdata\u001b[0m\u001b[0;34m,\u001b[0m \u001b[0morder\u001b[0m\u001b[0;34m,\u001b[0m \u001b[0mhue_order\u001b[0m\u001b[0;34m,\u001b[0m\u001b[0;34m\u001b[0m\u001b[0;34m\u001b[0m\u001b[0m\n\u001b[1;32m   2945\u001b[0m         \u001b[0mestimator\u001b[0m\u001b[0;34m,\u001b[0m \u001b[0merrorbar\u001b[0m\u001b[0;34m,\u001b[0m \u001b[0mn_boot\u001b[0m\u001b[0;34m,\u001b[0m \u001b[0munits\u001b[0m\u001b[0;34m,\u001b[0m \u001b[0mseed\u001b[0m\u001b[0;34m,\u001b[0m\u001b[0;34m\u001b[0m\u001b[0;34m\u001b[0m\u001b[0m\n",
            "\u001b[0;32m/usr/local/lib/python3.10/dist-packages/seaborn/categorical.py\u001b[0m in \u001b[0;36m__init__\u001b[0;34m(self, x, y, hue, data, order, hue_order, estimator, errorbar, n_boot, units, seed, orient, color, palette, saturation, width, errcolor, errwidth, capsize, dodge)\u001b[0m\n\u001b[1;32m   1528\u001b[0m                  errcolor, errwidth, capsize, dodge):\n\u001b[1;32m   1529\u001b[0m         \u001b[0;34m\"\"\"Initialize the plotter.\"\"\"\u001b[0m\u001b[0;34m\u001b[0m\u001b[0;34m\u001b[0m\u001b[0m\n\u001b[0;32m-> 1530\u001b[0;31m         self.establish_variables(x, y, hue, data, orient,\n\u001b[0m\u001b[1;32m   1531\u001b[0m                                  order, hue_order, units)\n\u001b[1;32m   1532\u001b[0m         \u001b[0mself\u001b[0m\u001b[0;34m.\u001b[0m\u001b[0mestablish_colors\u001b[0m\u001b[0;34m(\u001b[0m\u001b[0mcolor\u001b[0m\u001b[0;34m,\u001b[0m \u001b[0mpalette\u001b[0m\u001b[0;34m,\u001b[0m \u001b[0msaturation\u001b[0m\u001b[0;34m)\u001b[0m\u001b[0;34m\u001b[0m\u001b[0;34m\u001b[0m\u001b[0m\n",
            "\u001b[0;32m/usr/local/lib/python3.10/dist-packages/seaborn/categorical.py\u001b[0m in \u001b[0;36mestablish_variables\u001b[0;34m(self, x, y, hue, data, orient, order, hue_order, units)\u001b[0m\n\u001b[1;32m    514\u001b[0m \u001b[0;34m\u001b[0m\u001b[0m\n\u001b[1;32m    515\u001b[0m                 \u001b[0;31m# Convert to a list of arrays, the common representation\u001b[0m\u001b[0;34m\u001b[0m\u001b[0;34m\u001b[0m\u001b[0m\n\u001b[0;32m--> 516\u001b[0;31m                 \u001b[0mplot_data\u001b[0m \u001b[0;34m=\u001b[0m \u001b[0;34m[\u001b[0m\u001b[0mnp\u001b[0m\u001b[0;34m.\u001b[0m\u001b[0masarray\u001b[0m\u001b[0;34m(\u001b[0m\u001b[0md\u001b[0m\u001b[0;34m,\u001b[0m \u001b[0mfloat\u001b[0m\u001b[0;34m)\u001b[0m \u001b[0;32mfor\u001b[0m \u001b[0md\u001b[0m \u001b[0;32min\u001b[0m \u001b[0mplot_data\u001b[0m\u001b[0;34m]\u001b[0m\u001b[0;34m\u001b[0m\u001b[0;34m\u001b[0m\u001b[0m\n\u001b[0m\u001b[1;32m    517\u001b[0m \u001b[0;34m\u001b[0m\u001b[0m\n\u001b[1;32m    518\u001b[0m                 \u001b[0;31m# The group names will just be numeric indices\u001b[0m\u001b[0;34m\u001b[0m\u001b[0;34m\u001b[0m\u001b[0m\n",
            "\u001b[0;32m/usr/local/lib/python3.10/dist-packages/seaborn/categorical.py\u001b[0m in \u001b[0;36m<listcomp>\u001b[0;34m(.0)\u001b[0m\n\u001b[1;32m    514\u001b[0m \u001b[0;34m\u001b[0m\u001b[0m\n\u001b[1;32m    515\u001b[0m                 \u001b[0;31m# Convert to a list of arrays, the common representation\u001b[0m\u001b[0;34m\u001b[0m\u001b[0;34m\u001b[0m\u001b[0m\n\u001b[0;32m--> 516\u001b[0;31m                 \u001b[0mplot_data\u001b[0m \u001b[0;34m=\u001b[0m \u001b[0;34m[\u001b[0m\u001b[0mnp\u001b[0m\u001b[0;34m.\u001b[0m\u001b[0masarray\u001b[0m\u001b[0;34m(\u001b[0m\u001b[0md\u001b[0m\u001b[0;34m,\u001b[0m \u001b[0mfloat\u001b[0m\u001b[0;34m)\u001b[0m \u001b[0;32mfor\u001b[0m \u001b[0md\u001b[0m \u001b[0;32min\u001b[0m \u001b[0mplot_data\u001b[0m\u001b[0;34m]\u001b[0m\u001b[0;34m\u001b[0m\u001b[0;34m\u001b[0m\u001b[0m\n\u001b[0m\u001b[1;32m    517\u001b[0m \u001b[0;34m\u001b[0m\u001b[0m\n\u001b[1;32m    518\u001b[0m                 \u001b[0;31m# The group names will just be numeric indices\u001b[0m\u001b[0;34m\u001b[0m\u001b[0;34m\u001b[0m\u001b[0m\n",
            "\u001b[0;31mValueError\u001b[0m: could not convert string to float: 'ABBOTTS BABBLER'"
          ]
        },
        {
          "output_type": "display_data",
          "data": {
            "text/plain": [
              "<Figure size 1200x900 with 0 Axes>"
            ]
          },
          "metadata": {}
        }
      ]
    },
    {
      "cell_type": "markdown",
      "source": [
        "Создаем датасеты и даталоадеры."
      ],
      "metadata": {
        "id": "uxRLNm6QB3ty"
      }
    },
    {
      "cell_type": "code",
      "source": [
        "trainset = AviansDataset(train_files)\n",
        "valset = AviansDataset(val_files, mode=\"val\")\n",
        "\n",
        "trainloader = DataLoader(trainset, batch_size=BATCH_SIZE, shuffle=True)\n",
        "valloader = DataLoader(valset, batch_size=BATCH_SIZE, shuffle=False)"
      ],
      "metadata": {
        "id": "0StUEeE129Hp"
      },
      "execution_count": 14,
      "outputs": []
    },
    {
      "cell_type": "markdown",
      "source": [
        "Возьмем какую-то готовую модель, например, `VGG19` с батч-нормализацией:"
      ],
      "metadata": {
        "id": "2USUKwy-B-4K"
      }
    },
    {
      "cell_type": "code",
      "source": [
        "model = torchvision.models.vgg19_bn(pretrained=True)"
      ],
      "metadata": {
        "id": "Epk-wb6xJfpk",
        "colab": {
          "base_uri": "https://localhost:8080/"
        },
        "outputId": "76b046a6-3e24-44db-8ba6-2deaa43fb5ac"
      },
      "execution_count": 15,
      "outputs": [
        {
          "output_type": "stream",
          "name": "stderr",
          "text": [
            "/usr/local/lib/python3.10/dist-packages/torchvision/models/_utils.py:208: UserWarning: The parameter 'pretrained' is deprecated since 0.13 and may be removed in the future, please use 'weights' instead.\n",
            "  warnings.warn(\n",
            "/usr/local/lib/python3.10/dist-packages/torchvision/models/_utils.py:223: UserWarning: Arguments other than a weight enum or `None` for 'weights' are deprecated since 0.13 and may be removed in the future. The current behavior is equivalent to passing `weights=VGG19_BN_Weights.IMAGENET1K_V1`. You can also use `weights=VGG19_BN_Weights.DEFAULT` to get the most up-to-date weights.\n",
            "  warnings.warn(msg)\n",
            "Downloading: \"https://download.pytorch.org/models/vgg19_bn-c79401a0.pth\" to /root/.cache/torch/hub/checkpoints/vgg19_bn-c79401a0.pth\n",
            "100%|██████████| 548M/548M [00:09<00:00, 61.9MB/s]\n"
          ]
        }
      ]
    },
    {
      "cell_type": "code",
      "source": [
        "model"
      ],
      "metadata": {
        "id": "sRK-XMN4KkEo",
        "colab": {
          "base_uri": "https://localhost:8080/"
        },
        "outputId": "cf87e2d2-8d58-4baa-ec30-f8293f73b268"
      },
      "execution_count": 16,
      "outputs": [
        {
          "output_type": "execute_result",
          "data": {
            "text/plain": [
              "VGG(\n",
              "  (features): Sequential(\n",
              "    (0): Conv2d(3, 64, kernel_size=(3, 3), stride=(1, 1), padding=(1, 1))\n",
              "    (1): BatchNorm2d(64, eps=1e-05, momentum=0.1, affine=True, track_running_stats=True)\n",
              "    (2): ReLU(inplace=True)\n",
              "    (3): Conv2d(64, 64, kernel_size=(3, 3), stride=(1, 1), padding=(1, 1))\n",
              "    (4): BatchNorm2d(64, eps=1e-05, momentum=0.1, affine=True, track_running_stats=True)\n",
              "    (5): ReLU(inplace=True)\n",
              "    (6): MaxPool2d(kernel_size=2, stride=2, padding=0, dilation=1, ceil_mode=False)\n",
              "    (7): Conv2d(64, 128, kernel_size=(3, 3), stride=(1, 1), padding=(1, 1))\n",
              "    (8): BatchNorm2d(128, eps=1e-05, momentum=0.1, affine=True, track_running_stats=True)\n",
              "    (9): ReLU(inplace=True)\n",
              "    (10): Conv2d(128, 128, kernel_size=(3, 3), stride=(1, 1), padding=(1, 1))\n",
              "    (11): BatchNorm2d(128, eps=1e-05, momentum=0.1, affine=True, track_running_stats=True)\n",
              "    (12): ReLU(inplace=True)\n",
              "    (13): MaxPool2d(kernel_size=2, stride=2, padding=0, dilation=1, ceil_mode=False)\n",
              "    (14): Conv2d(128, 256, kernel_size=(3, 3), stride=(1, 1), padding=(1, 1))\n",
              "    (15): BatchNorm2d(256, eps=1e-05, momentum=0.1, affine=True, track_running_stats=True)\n",
              "    (16): ReLU(inplace=True)\n",
              "    (17): Conv2d(256, 256, kernel_size=(3, 3), stride=(1, 1), padding=(1, 1))\n",
              "    (18): BatchNorm2d(256, eps=1e-05, momentum=0.1, affine=True, track_running_stats=True)\n",
              "    (19): ReLU(inplace=True)\n",
              "    (20): Conv2d(256, 256, kernel_size=(3, 3), stride=(1, 1), padding=(1, 1))\n",
              "    (21): BatchNorm2d(256, eps=1e-05, momentum=0.1, affine=True, track_running_stats=True)\n",
              "    (22): ReLU(inplace=True)\n",
              "    (23): Conv2d(256, 256, kernel_size=(3, 3), stride=(1, 1), padding=(1, 1))\n",
              "    (24): BatchNorm2d(256, eps=1e-05, momentum=0.1, affine=True, track_running_stats=True)\n",
              "    (25): ReLU(inplace=True)\n",
              "    (26): MaxPool2d(kernel_size=2, stride=2, padding=0, dilation=1, ceil_mode=False)\n",
              "    (27): Conv2d(256, 512, kernel_size=(3, 3), stride=(1, 1), padding=(1, 1))\n",
              "    (28): BatchNorm2d(512, eps=1e-05, momentum=0.1, affine=True, track_running_stats=True)\n",
              "    (29): ReLU(inplace=True)\n",
              "    (30): Conv2d(512, 512, kernel_size=(3, 3), stride=(1, 1), padding=(1, 1))\n",
              "    (31): BatchNorm2d(512, eps=1e-05, momentum=0.1, affine=True, track_running_stats=True)\n",
              "    (32): ReLU(inplace=True)\n",
              "    (33): Conv2d(512, 512, kernel_size=(3, 3), stride=(1, 1), padding=(1, 1))\n",
              "    (34): BatchNorm2d(512, eps=1e-05, momentum=0.1, affine=True, track_running_stats=True)\n",
              "    (35): ReLU(inplace=True)\n",
              "    (36): Conv2d(512, 512, kernel_size=(3, 3), stride=(1, 1), padding=(1, 1))\n",
              "    (37): BatchNorm2d(512, eps=1e-05, momentum=0.1, affine=True, track_running_stats=True)\n",
              "    (38): ReLU(inplace=True)\n",
              "    (39): MaxPool2d(kernel_size=2, stride=2, padding=0, dilation=1, ceil_mode=False)\n",
              "    (40): Conv2d(512, 512, kernel_size=(3, 3), stride=(1, 1), padding=(1, 1))\n",
              "    (41): BatchNorm2d(512, eps=1e-05, momentum=0.1, affine=True, track_running_stats=True)\n",
              "    (42): ReLU(inplace=True)\n",
              "    (43): Conv2d(512, 512, kernel_size=(3, 3), stride=(1, 1), padding=(1, 1))\n",
              "    (44): BatchNorm2d(512, eps=1e-05, momentum=0.1, affine=True, track_running_stats=True)\n",
              "    (45): ReLU(inplace=True)\n",
              "    (46): Conv2d(512, 512, kernel_size=(3, 3), stride=(1, 1), padding=(1, 1))\n",
              "    (47): BatchNorm2d(512, eps=1e-05, momentum=0.1, affine=True, track_running_stats=True)\n",
              "    (48): ReLU(inplace=True)\n",
              "    (49): Conv2d(512, 512, kernel_size=(3, 3), stride=(1, 1), padding=(1, 1))\n",
              "    (50): BatchNorm2d(512, eps=1e-05, momentum=0.1, affine=True, track_running_stats=True)\n",
              "    (51): ReLU(inplace=True)\n",
              "    (52): MaxPool2d(kernel_size=2, stride=2, padding=0, dilation=1, ceil_mode=False)\n",
              "  )\n",
              "  (avgpool): AdaptiveAvgPool2d(output_size=(7, 7))\n",
              "  (classifier): Sequential(\n",
              "    (0): Linear(in_features=25088, out_features=4096, bias=True)\n",
              "    (1): ReLU(inplace=True)\n",
              "    (2): Dropout(p=0.5, inplace=False)\n",
              "    (3): Linear(in_features=4096, out_features=4096, bias=True)\n",
              "    (4): ReLU(inplace=True)\n",
              "    (5): Dropout(p=0.5, inplace=False)\n",
              "    (6): Linear(in_features=4096, out_features=1000, bias=True)\n",
              "  )\n",
              ")"
            ]
          },
          "metadata": {},
          "execution_count": 16
        }
      ]
    },
    {
      "cell_type": "markdown",
      "source": [
        "<center><img src =\"http://edunet.kea.su/repo/src/L09_CNN_Architectures/img_license/l09_6.png\"  width=\"400\" rotate=\"180\"></center>\n",
        "<center><em>Сравнение архитектур сетей AlexNet, VGG16 (использует 16 слоев) и VGG19 (использует 19 слоев).</em></center>"
      ],
      "metadata": {
        "id": "yfQWvFpWJyIU"
      }
    },
    {
      "cell_type": "markdown",
      "source": [
        "На выходе у модели 1000 классов, а у нас 19. Мы уже знаем, как это изменить. Просто поменяем аттрибут `model.classifier` на линейный слой с нужным числов выходов (можно на несколько линейных слоев, помещенных в `nn.Sequential`).\n",
        "\n",
        "Но возникает проблема поинтереснее: на входе модель ожидает картинку с 3 каналами, а у нас 1. Один из вариантов (он не самый хороший) это просто поменять первый сверточный слой в модели и обучать ее целиком (**подумайте**, почему мы не можем заморозить все слои кроме новых и обучать так модель?)."
      ],
      "metadata": {
        "id": "HkNUmdVFChy0"
      }
    },
    {
      "cell_type": "code",
      "source": [
        "num_features = 25088\n",
        "model.classifier = nn.Linear(num_features, N_CLASSES)\n",
        "model = model.to(DEVICE)"
      ],
      "metadata": {
        "id": "Iqz88BnmGm2A"
      },
      "execution_count": 17,
      "outputs": []
    },
    {
      "cell_type": "code",
      "source": [
        "# Была мысль сделать скорость обучения побольше. Ну потому что не может модель учиться медленнее меня, какой в ней тогда смысл.\n",
        "criterion = nn.CrossEntropyLoss()\n",
        "optimizer = torch.optim.Adam(model.parameters(), lr=3e-4)"
      ],
      "metadata": {
        "id": "VES3WfQKH896"
      },
      "execution_count": 18,
      "outputs": []
    },
    {
      "cell_type": "code",
      "source": [
        "trainer = Trainer(model, 10, criterion, optimizer, trainloader, valloader, DEVICE, accuracy_score)\n",
        "trainer.fit()"
      ],
      "metadata": {
        "colab": {
          "base_uri": "https://localhost:8080/"
        },
        "id": "ersprvTJIAXq",
        "outputId": "9bf3c2cc-abcc-4e01-db39-58dea071aed2"
      },
      "execution_count": 19,
      "outputs": [
        {
          "output_type": "stream",
          "name": "stdout",
          "text": [
            "Training: batch 76 out of 76\n",
            "Validation: batch 26 out of 26\n",
            "\n",
            "Epoch 1 out of 10: Train loss = 1.1954157250492197, validation loss = 0.5608964793276615 \n",
            "                                         Train metric = 0.5897119341563786, validation metric = 0.2\n",
            "\n",
            "Training: batch 76 out of 76\n",
            "Validation: batch 26 out of 26\n",
            "\n",
            "Epoch 2 out of 10: Train loss = 0.4968737452045867, validation loss = 0.6462800293789209 \n",
            "                                         Train metric = 0.7078189300411523, validation metric = 0.17901234567901234\n",
            "\n",
            "Training: batch 76 out of 76\n",
            "Validation: batch 26 out of 26\n",
            "\n",
            "Epoch 3 out of 10: Train loss = 0.40923851150039, validation loss = 0.49684865717203 \n",
            "                                         Train metric = 0.7271604938271605, validation metric = 0.2419753086419753\n",
            "\n",
            "Training: batch 76 out of 76\n",
            "Validation: batch 26 out of 26\n",
            "\n",
            "Epoch 4 out of 10: Train loss = 0.34188879607245326, validation loss = 0.7054609288103305 \n",
            "                                         Train metric = 0.7320987654320987, validation metric = 0.18024691358024691\n",
            "\n",
            "Training: batch 76 out of 76\n",
            "Validation: batch 26 out of 26\n",
            "\n",
            "Epoch 5 out of 10: Train loss = 0.346754884567896, validation loss = 0.44552176945412963 \n",
            "                                         Train metric = 0.7205761316872428, validation metric = 0.1728395061728395\n",
            "\n",
            "Training: batch 76 out of 76\n",
            "Validation: batch 26 out of 26\n",
            "\n",
            "Epoch 6 out of 10: Train loss = 0.2341247475460956, validation loss = 0.32146617857058746 \n",
            "                                         Train metric = 0.7271604938271605, validation metric = 0.17037037037037037\n",
            "\n",
            "Training: batch 76 out of 76\n",
            "Validation: batch 26 out of 26\n",
            "\n",
            "Epoch 7 out of 10: Train loss = 0.23779243294541774, validation loss = 0.49377592017348293 \n",
            "                                         Train metric = 0.7246913580246913, validation metric = 0.1654320987654321\n",
            "\n",
            "Training: batch 76 out of 76\n",
            "Validation: batch 26 out of 26\n",
            "\n",
            "Epoch 8 out of 10: Train loss = 0.1741018744283601, validation loss = 0.48009173549200146 \n",
            "                                         Train metric = 0.7345679012345679, validation metric = 0.18641975308641975\n",
            "\n",
            "Training: batch 76 out of 76\n",
            "Validation: batch 26 out of 26\n",
            "\n",
            "Epoch 9 out of 10: Train loss = 0.17106897018751815, validation loss = 0.46635311296603715 \n",
            "                                         Train metric = 0.7242798353909465, validation metric = 0.15679012345679014\n",
            "\n",
            "Training: batch 76 out of 76\n",
            "Validation: batch 26 out of 26\n",
            "\n",
            "Epoch 10 out of 10: Train loss = 0.2337761704172743, validation loss = 0.4950804261920544 \n",
            "                                         Train metric = 0.7152263374485597, validation metric = 0.1654320987654321\n",
            "\n"
          ]
        },
        {
          "output_type": "execute_result",
          "data": {
            "text/plain": [
              "<__main__.Trainer at 0x7fd3bc5b7ee0>"
            ]
          },
          "metadata": {},
          "execution_count": 19
        }
      ]
    },
    {
      "cell_type": "markdown",
      "source": [
        "Нематоды обучились за полчаса. 20 семейств птичек (а всего их то ли 1100, то ли 500 с копейками) за 50 минут"
      ],
      "metadata": {
        "id": "9Jo-EfIIrpt8"
      }
    },
    {
      "cell_type": "code",
      "source": [
        "sns.lineplot(y=trainer.train_losses, x=range(1, 11), label=\"Train\")\n",
        "sns.lineplot(y=trainer.valid_losses, x=range(1, 11), label=\"Validation\")\n",
        "\n",
        "plt.show()"
      ],
      "metadata": {
        "id": "689itHECnCAS",
        "colab": {
          "base_uri": "https://localhost:8080/",
          "height": 430
        },
        "outputId": "f91ff79a-a26e-4fbd-95b6-ef05d8127b6f"
      },
      "execution_count": 20,
      "outputs": [
        {
          "output_type": "display_data",
          "data": {
            "text/plain": [
              "<Figure size 640x480 with 1 Axes>"
            ],
            "image/png": "[encoded data removed]"
          },
          "metadata": {}
        }
      ]
    },
    {
      "cell_type": "code",
      "source": [
        "calculate_metric(model, valloader)"
      ],
      "metadata": {
        "colab": {
          "base_uri": "https://localhost:8080/"
        },
        "id": "uip73691T_tx",
        "outputId": "db277a02-0e85-4118-8b12-c6ab48a69d1c"
      },
      "execution_count": 21,
      "outputs": [
        {
          "output_type": "execute_result",
          "data": {
            "text/plain": [
              "0.891358024691358"
            ]
          },
          "metadata": {},
          "execution_count": 21
        }
      ]
    },
    {
      "cell_type": "code",
      "source": [
        "from functools import partial\n",
        "\n",
        "f1_macro = partial(f1_score, average=\"macro\")\n",
        "f1_micro = partial(f1_score, average=\"micro\")"
      ],
      "metadata": {
        "id": "KUxQrx6QWfOp"
      },
      "execution_count": 22,
      "outputs": []
    },
    {
      "cell_type": "code",
      "source": [
        "calculate_metric(model, valloader, f1_macro)"
      ],
      "metadata": {
        "colab": {
          "base_uri": "https://localhost:8080/"
        },
        "id": "Ue_yGNuwTkQ9",
        "outputId": "45c2ddcb-9f8f-41c2-c244-aa01213f095a"
      },
      "execution_count": 23,
      "outputs": [
        {
          "output_type": "execute_result",
          "data": {
            "text/plain": [
              "0.8959382913031483"
            ]
          },
          "metadata": {},
          "execution_count": 23
        }
      ]
    },
    {
      "cell_type": "code",
      "source": [
        "calculate_metric(model, valloader, f1_micro)"
      ],
      "metadata": {
        "colab": {
          "base_uri": "https://localhost:8080/"
        },
        "id": "YCjUSnQlWruf",
        "outputId": "ecdaca0e-c0ac-4902-e196-2fcdc05536fa"
      },
      "execution_count": 24,
      "outputs": [
        {
          "output_type": "execute_result",
          "data": {
            "text/plain": [
              "0.891358024691358"
            ]
          },
          "metadata": {},
          "execution_count": 24
        }
      ]
    },
    {
      "cell_type": "code",
      "source": [],
      "metadata": {
        "id": "LEVHEqWR9kVi"
      },
      "execution_count": null,
      "outputs": []
    }
  ]
}