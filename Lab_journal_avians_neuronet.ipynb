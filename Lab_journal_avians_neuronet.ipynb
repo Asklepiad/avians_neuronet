{
 "cells": [
  {
   "cell_type": "markdown",
   "metadata": {
    "colab_type": "text",
    "id": "view-in-github"
   },
   "source": [
    "<a href=\"https://colab.research.google.com/github/Asklepiad/avians_neuronet/blob/main/Lab_journal_avians_neuronet.ipynb\" target=\"_parent\"><img src=\"https://colab.research.google.com/assets/colab-badge.svg\" alt=\"Open In Colab\"/></a>"
   ]
  },
  {
   "cell_type": "markdown",
   "metadata": {
    "id": "d3009yKm8B6W"
   },
   "source": [
    "### Sotnikov:\n",
    "\n",
    "Benchmarking\n",
    "\n",
    "|       Model      | N batches | Device                 | Batch size | Epochs | Lr    | Model |   Time   |\n",
    "|:----------------:|-----------|------------------------|------------|--------|-------|-------|:--------:|\n",
    "|   Nematod-full   | 65 + 22   | CPU (8) - JN           | 32         | 10     | 0.001 | vgg19 | 3,5 hour |\n",
    "|   Nematod-full   | 65 + 22   | GPU (2) - COLAB        | 32         | 10     | 0.001 | vgg19 |  33 min  |\n",
    "| Avians-20 (1/26) | 76 + 26   | GPU (2) - COLAB        | 32         | 10     | 0.001 | vgg19 |  50 min  |\n",
    "| Avians-20 (1/26) | 38 + 13   | GPU (2) - COLAB        | 64         | 10     | 0.001 | vgg19 | 27 min   |\n",
    "|    Avians-full   | 992 + 331 | GPU (4) - cluster (BS) | 64         | 10     | 0.001 | vgg19 |  142 min |"
   ]
  }
 ],
 "metadata": {
  "colab": {
   "authorship_tag": "ABX9TyNza4oG4fIXPa5VNZZhhfqO",
   "include_colab_link": true,
   "provenance": []
  },
  "kernelspec": {
   "display_name": "Python 3 (ipykernel)",
   "language": "python",
   "name": "python3"
  },
  "language_info": {
   "codemirror_mode": {
    "name": "ipython",
    "version": 3
   },
   "file_extension": ".py",
   "mimetype": "text/x-python",
   "name": "python",
   "nbconvert_exporter": "python",
   "pygments_lexer": "ipython3",
   "version": "3.9.13"
  }
 },
 "nbformat": 4,
 "nbformat_minor": 1
}
