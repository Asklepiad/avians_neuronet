{
 "cells": [
  {
   "cell_type": "markdown",
   "metadata": {
    "colab_type": "text",
    "id": "view-in-github"
   },
   "source": [
    "<a href=\"https://colab.research.google.com/github/Asklepiad/avians_neuronet/blob/main/Lab_journal_avians_neuronet.ipynb\" target=\"_parent\"><img src=\"https://colab.research.google.com/assets/colab-badge.svg\" alt=\"Open In Colab\"/></a>"
   ]
  },
  {
   "cell_type": "markdown",
   "metadata": {
    "id": "d3009yKm8B6W",
    "jp-MarkdownHeadingCollapsed": true,
    "tags": []
   },
   "source": [
    "### Sotnikov:\n",
    "\n",
    "Benchmarking\n",
    "\n",
    "|       Model      | N batches   | Device                      | Batch size | Epochs | Lr    |  Time  |\n",
    "|:----------------:|-------------|-----------------------------|------------|--------|-------|:------:|\n",
    "|   Nematod-full   | 65 + 22     | CPU (8) - JN                | 32         | 10     | 0.001 |        |\n",
    "|   Nematod-full   | 65 + 22     | GPU (2) - COLAB             | 32         | 10     | 0.001 | 33 min |\n",
    "| Avians-20 (1/26) | 76 + 26     | GPU (2) - COLAB             | 32         | 10     | 0.001 | 50 min |\n",
    "|    Avians-full   | 1984 + 655? | GPU (12-32?) - cluster (BS) | 256        | 10     | 0.001 |        |"
   ]
  },
  {
   "cell_type": "markdown",
   "metadata": {
    "id": "WxCQo0hP8NjU"
   },
   "source": [
    "# Igamberdiev"
   ]
  },
  {
   "cell_type": "markdown",
   "metadata": {},
   "source": [
    "|       Model      | N batches   | Device                      | Batch size | Epochs | Lr    |  Time  |\n",
    "|:----------------:|-------------|-----------------------------|------------|--------|-------|:------:|\n",
    "|                  |             |                             |            |        |       |        |\n",
    "|                  |             |                             |            |        |       |        |\n",
    "|                  |             |                             |            |        |       |        |\n",
    "|                  |             |                             |            |        |       |        | "
   ]
  },
  {
   "cell_type": "code",
   "execution_count": null,
   "metadata": {},
   "outputs": [],
   "source": []
  }
 ],
 "metadata": {
  "colab": {
   "authorship_tag": "ABX9TyNza4oG4fIXPa5VNZZhhfqO",
   "include_colab_link": true,
   "provenance": []
  },
  "kernelspec": {
   "display_name": "Python 3 (ipykernel)",
   "language": "python",
   "name": "python3"
  },
  "language_info": {
   "codemirror_mode": {
    "name": "ipython",
    "version": 3
   },
   "file_extension": ".py",
   "mimetype": "text/x-python",
   "name": "python",
   "nbconvert_exporter": "python",
   "pygments_lexer": "ipython3",
   "version": "3.7.2"
  }
 },
 "nbformat": 4,
 "nbformat_minor": 4
}
