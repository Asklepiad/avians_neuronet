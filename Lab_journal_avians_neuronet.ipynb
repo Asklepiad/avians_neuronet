{
  "nbformat": 4,
  "nbformat_minor": 0,
  "metadata": {
    "colab": {
      "provenance": [],
      "authorship_tag": "ABX9TyNza4oG4fIXPa5VNZZhhfqO",
      "include_colab_link": true
    },
    "kernelspec": {
      "name": "python3",
      "display_name": "Python 3"
    },
    "language_info": {
      "name": "python"
    }
  },
  "cells": [
    {
      "cell_type": "markdown",
      "metadata": {
        "id": "view-in-github",
        "colab_type": "text"
      },
      "source": [
        "<a href=\"https://colab.research.google.com/github/Asklepiad/avians_neuronet/blob/main/Lab_journal_avians_neuronet.ipynb\" target=\"_parent\"><img src=\"https://colab.research.google.com/assets/colab-badge.svg\" alt=\"Open In Colab\"/></a>"
      ]
    },
    {
      "cell_type": "markdown",
      "source": [
        "### Sotnikov:\n",
        "\n",
        "Benchmarking\n",
        "\n",
        "|       Model      | N batches   | Device                      | Batch size | Epochs | Lr    |  Time  |\n",
        "|:----------------:|-------------|-----------------------------|------------|--------|-------|:------:|\n",
        "|   Nematod-full   | 65 + 22     | CPU (8) - JN                | 32         | 10     | 0.001 |        |\n",
        "|   Nematod-full   | 65 + 22     | GPU (2) - COLAB             | 32         | 10     | 0.001 | 33 min |\n",
        "| Avians-20 (1/26) | 76 + 26     | GPU (2) - COLAB             | 32         | 10     | 0.001 | 50 min |\n",
        "|    Avians-full   | 1984 + 655? | GPU (12-32?) - cluster (BS) | 256        | 10     | 0.001 |        |"
      ],
      "metadata": {
        "id": "d3009yKm8B6W"
      }
    },
    {
      "cell_type": "markdown",
      "source": [],
      "metadata": {
        "id": "WxCQo0hP8NjU"
      }
    }
  ]
}